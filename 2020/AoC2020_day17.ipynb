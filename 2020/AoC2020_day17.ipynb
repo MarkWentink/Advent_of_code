{
 "cells": [
  {
   "cell_type": "markdown",
   "metadata": {},
   "source": [
    "# Advent of Code 2020 - Day 17"
   ]
  },
  {
   "cell_type": "code",
   "execution_count": 22,
   "metadata": {},
   "outputs": [],
   "source": [
    "from aocd import data\n",
    "import copy"
   ]
  },
  {
   "cell_type": "code",
   "execution_count": 170,
   "metadata": {},
   "outputs": [],
   "source": [
    "data = !aocd 17 2020 \n"
   ]
  },
  {
   "cell_type": "code",
   "execution_count": 181,
   "metadata": {},
   "outputs": [
    {
     "data": {
      "text/plain": [
       "['.#..####',\n",
       " '.#.#...#',\n",
       " '#..#.#.#',\n",
       " '###..##.',\n",
       " '..##...#',\n",
       " '..##.###',\n",
       " '#.....#.',\n",
       " '..##..##']"
      ]
     },
     "execution_count": 181,
     "metadata": {},
     "output_type": "execute_result"
    }
   ],
   "source": [
    "data"
   ]
  },
  {
   "cell_type": "code",
   "execution_count": 144,
   "metadata": {},
   "outputs": [],
   "source": [
    "from collections import defaultdict"
   ]
  },
  {
   "cell_type": "code",
   "execution_count": 176,
   "metadata": {},
   "outputs": [],
   "source": [
    "space = defaultdict(list)"
   ]
  },
  {
   "cell_type": "code",
   "execution_count": 150,
   "metadata": {},
   "outputs": [],
   "source": [
    "#test = ['.#.','..#','###']"
   ]
  },
  {
   "cell_type": "code",
   "execution_count": 177,
   "metadata": {},
   "outputs": [],
   "source": [
    "for i in range(8):\n",
    "    for j in range(8):\n",
    "        space[(0, i-4, j-4)] = data[i][j]"
   ]
  },
  {
   "cell_type": "code",
   "execution_count": 153,
   "metadata": {},
   "outputs": [],
   "source": [
    "def find_neighbours(z,y,x):\n",
    "    neighbours = []\n",
    "    for k in range(-1, 2, 1):\n",
    "        for j in range(-1, 2, 1):\n",
    "            for i in range(-1, 2, 1):\n",
    "                if (k, j, i) != (0 ,0, 0):\n",
    "                    neighbours.append((z+k, y+j, x+i))\n",
    "    return neighbours"
   ]
  },
  {
   "cell_type": "code",
   "execution_count": 71,
   "metadata": {},
   "outputs": [],
   "source": []
  },
  {
   "cell_type": "code",
   "execution_count": 179,
   "metadata": {},
   "outputs": [],
   "source": [
    "for x in range(6):\n",
    "\n",
    "    next_space = copy.deepcopy(space)\n",
    "    space_keys = list(space.keys())\n",
    "\n",
    "    for unit in space_keys:\n",
    "        if space[unit] == '#':\n",
    "            neighbours = find_neighbours(*unit)\n",
    "            for neighbour in neighbours:\n",
    "                if next_space[neighbour] == 'fff':\n",
    "                    pass\n",
    "    #print(next_space)\n",
    "    space = next_space\n",
    "\n",
    "    next_space = copy.deepcopy(space)\n",
    "    space_keys = list(space.keys())\n",
    "    #print(space_keys)\n",
    "    #print(next_space)\n",
    "    for unit in space_keys:\n",
    "        #print(\"unit: \",unit)\n",
    "        neighbours = find_neighbours(*unit)\n",
    "        neighbour_count = 0\n",
    "\n",
    "        for neighbour in neighbours:\n",
    "            if space[neighbour] == '#':\n",
    "                neighbour_count += 1\n",
    "\n",
    "        #print(\"found neighbours: \", neighbour_count)\n",
    "\n",
    "\n",
    "        if space[unit] == '#' and neighbour_count in [2,3]:\n",
    "            next_space[unit] = '#'\n",
    "        elif space[unit] == '#' and neighbour_count not in [2,3]:\n",
    "            next_space[unit] = '.'\n",
    "        elif (space[unit] == '.' or space[unit] == []) and neighbour_count == 3:\n",
    "            next_space[unit] = '#'\n",
    "        else:\n",
    "            next_space[unit] = '.'\n",
    "\n",
    "    space = next_space"
   ]
  },
  {
   "cell_type": "code",
   "execution_count": 180,
   "metadata": {},
   "outputs": [
    {
     "data": {
      "text/plain": [
       "289"
      ]
     },
     "execution_count": 180,
     "metadata": {},
     "output_type": "execute_result"
    }
   ],
   "source": [
    "list(space.values()).count('#')"
   ]
  },
  {
   "cell_type": "markdown",
   "metadata": {},
   "source": [
    "## Part 2"
   ]
  },
  {
   "cell_type": "code",
   "execution_count": 182,
   "metadata": {},
   "outputs": [],
   "source": [
    "space = defaultdict(list)\n",
    "for i in range(8):\n",
    "    for j in range(8):\n",
    "        space[(0, 0, i-4, j-4)] = data[i][j]"
   ]
  },
  {
   "cell_type": "code",
   "execution_count": 183,
   "metadata": {},
   "outputs": [],
   "source": [
    "def find_4d_neighbours(w,z,y,x):\n",
    "    neighbours = []\n",
    "    for l in range(-1, 2, 1):\n",
    "        for k in range(-1, 2, 1):\n",
    "            for j in range(-1, 2, 1):\n",
    "                for i in range(-1, 2, 1):\n",
    "                    if (l, k, j, i) != (0 ,0, 0, 0):\n",
    "                        neighbours.append((w+l, z+k, y+j, x+i))\n",
    "    return neighbours"
   ]
  },
  {
   "cell_type": "code",
   "execution_count": 186,
   "metadata": {},
   "outputs": [],
   "source": [
    "for x in range(6):\n",
    "\n",
    "    next_space = copy.deepcopy(space)\n",
    "    space_keys = list(space.keys())\n",
    "\n",
    "    for unit in space_keys:\n",
    "        if space[unit] == '#':\n",
    "            neighbours = find_4d_neighbours(*unit)\n",
    "            for neighbour in neighbours:\n",
    "                if next_space[neighbour] == 'fff':\n",
    "                    pass\n",
    "    #print(next_space)\n",
    "    space = next_space\n",
    "\n",
    "    next_space = copy.deepcopy(space)\n",
    "    space_keys = list(space.keys())\n",
    "    #print(space_keys)\n",
    "    #print(next_space)\n",
    "    for unit in space_keys:\n",
    "        #print(\"unit: \",unit)\n",
    "        neighbours = find_4d_neighbours(*unit)\n",
    "        neighbour_count = 0\n",
    "\n",
    "        for neighbour in neighbours:\n",
    "            if space[neighbour] == '#':\n",
    "                neighbour_count += 1\n",
    "\n",
    "        #print(\"found neighbours: \", neighbour_count)\n",
    "\n",
    "\n",
    "        if space[unit] == '#' and neighbour_count in [2,3]:\n",
    "            next_space[unit] = '#'\n",
    "        elif space[unit] == '#' and neighbour_count not in [2,3]:\n",
    "            next_space[unit] = '.'\n",
    "        elif (space[unit] == '.' or space[unit] == []) and neighbour_count == 3:\n",
    "            next_space[unit] = '#'\n",
    "        else:\n",
    "            next_space[unit] = '.'\n",
    "\n",
    "    space = next_space"
   ]
  },
  {
   "cell_type": "code",
   "execution_count": 187,
   "metadata": {},
   "outputs": [
    {
     "data": {
      "text/plain": [
       "2084"
      ]
     },
     "execution_count": 187,
     "metadata": {},
     "output_type": "execute_result"
    }
   ],
   "source": [
    "list(space.values()).count('#')"
   ]
  },
  {
   "cell_type": "code",
   "execution_count": null,
   "metadata": {},
   "outputs": [],
   "source": []
  }
 ],
 "metadata": {
  "kernelspec": {
   "display_name": "Python 3",
   "language": "python",
   "name": "python3"
  },
  "language_info": {
   "codemirror_mode": {
    "name": "ipython",
    "version": 3
   },
   "file_extension": ".py",
   "mimetype": "text/x-python",
   "name": "python",
   "nbconvert_exporter": "python",
   "pygments_lexer": "ipython3",
   "version": "3.7.4"
  }
 },
 "nbformat": 4,
 "nbformat_minor": 4
}
