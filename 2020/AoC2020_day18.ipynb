{
 "cells": [
  {
   "cell_type": "code",
   "execution_count": 67,
   "metadata": {},
   "outputs": [],
   "source": [
    "from aocd import data"
   ]
  },
  {
   "cell_type": "code",
   "execution_count": 68,
   "metadata": {},
   "outputs": [],
   "source": [
    "data = data.split('\\n')"
   ]
  },
  {
   "cell_type": "code",
   "execution_count": 69,
   "metadata": {},
   "outputs": [
    {
     "data": {
      "text/plain": [
       "'5 + (9 + (7 + 5 + 3 * 8 + 4 * 6) + 9 * 8 * 7)'"
      ]
     },
     "execution_count": 69,
     "metadata": {},
     "output_type": "execute_result"
    }
   ],
   "source": [
    "data[0]"
   ]
  },
  {
   "cell_type": "code",
   "execution_count": 32,
   "metadata": {},
   "outputs": [],
   "source": [
    "import re"
   ]
  },
  {
   "cell_type": "code",
   "execution_count": 53,
   "metadata": {},
   "outputs": [],
   "source": [
    "def solver(exp):\n",
    "    result = 0\n",
    "    i = 0\n",
    "    if exp[0] == '(':\n",
    "        exp = exp[1:]\n",
    "    if exp[-1] == ')':\n",
    "        exp = exp [:-1]\n",
    "    \n",
    "    exp = list(exp.split())\n",
    "    \n",
    "    while i < len(exp):\n",
    "        if result == 0:\n",
    "            result += int(exp[i])\n",
    "            i += 1\n",
    "        elif exp[i] == '*':\n",
    "            result  = result * int(exp[i+1])\n",
    "            i += 2\n",
    "        elif exp[i] == '+':\n",
    "            result += int(exp[i+1])\n",
    "            i += 2\n",
    "        else:\n",
    "            print(\"Error at \", i, exp[i])\n",
    "            i += 1\n",
    "        \n",
    "    \n",
    "    return str(result)"
   ]
  },
  {
   "cell_type": "code",
   "execution_count": null,
   "metadata": {},
   "outputs": [],
   "source": [
    "total = 0\n",
    "\n",
    "for dat in data:\n",
    "    parantheses = '0'\n",
    "    while re.search(r'\\([\\w\\s+*]+\\)', dat) is not None:\n",
    "        parantheses = re.search(r'\\([\\w\\s+*]+\\)', dat).group()\n",
    "        #print(parantheses)\n",
    "        dat = dat.replace(parantheses, solver(parantheses))\n",
    "        #print(dat)\n",
    "\n",
    "    dat = solver(dat)\n",
    "    #print(dat)\n",
    "    total += int(dat)"
   ]
  },
  {
   "cell_type": "code",
   "execution_count": 71,
   "metadata": {},
   "outputs": [
    {
     "data": {
      "text/plain": [
       "18213007238947"
      ]
     },
     "execution_count": 71,
     "metadata": {},
     "output_type": "execute_result"
    }
   ],
   "source": [
    "total"
   ]
  },
  {
   "cell_type": "markdown",
   "metadata": {},
   "source": [
    "## Part 2"
   ]
  },
  {
   "cell_type": "code",
   "execution_count": 124,
   "metadata": {},
   "outputs": [],
   "source": [
    "from aocd import data\n",
    "data = data.split('\\n')"
   ]
  },
  {
   "cell_type": "code",
   "execution_count": 121,
   "metadata": {},
   "outputs": [],
   "source": [
    "def prioritised_solver(exp):\n",
    "    result = 0\n",
    "    i = 0\n",
    "    if exp[0] == '(':\n",
    "        exp = exp[1:]\n",
    "    if exp[-1] == ')':\n",
    "        exp = exp [:-1]\n",
    "    \n",
    "    exp = list(exp.split())\n",
    "    #print(exp)\n",
    "    \n",
    "    while '+' in exp :\n",
    "        location = exp.index('+')\n",
    "        nr1 = exp[location-1]\n",
    "        nr2 = exp[location+1]\n",
    "        exp[location] = str(int(nr1)+int(nr2))\n",
    "        del exp[location+1]\n",
    "        del exp[location-1]\n",
    "    \n",
    "        #print(exp)\n",
    "        \n",
    "    \n",
    "    while '*' in exp:\n",
    "        location = exp.index('*')\n",
    "        nr1 = exp[location-1]\n",
    "        nr2 = exp[location+1]\n",
    "        exp[location] = str(int(nr1)*int(nr2))\n",
    "        del exp[location+1]\n",
    "        del exp[location-1]\n",
    "    \n",
    "        #print(exp)\n",
    "    \n",
    "    return exp[0]"
   ]
  },
  {
   "cell_type": "code",
   "execution_count": 117,
   "metadata": {},
   "outputs": [
    {
     "name": "stdout",
     "output_type": "stream",
     "text": [
      "['8', '*', '12', '+', '3', '*', '4', '*', '3']\n",
      "['8', '*', '15', '*', '4', '*', '3']\n",
      "['120', '*', '4', '*', '3']\n",
      "['480', '*', '3']\n",
      "['1440']\n"
     ]
    },
    {
     "data": {
      "text/plain": [
       "'1440'"
      ]
     },
     "execution_count": 117,
     "metadata": {},
     "output_type": "execute_result"
    }
   ],
   "source": [
    "prioritised_solver('(8 * 3 + 9 + 3 * 4 * 3)')"
   ]
  },
  {
   "cell_type": "code",
   "execution_count": 127,
   "metadata": {},
   "outputs": [
    {
     "data": {
      "text/plain": [
       "61493"
      ]
     },
     "execution_count": 127,
     "metadata": {},
     "output_type": "execute_result"
    }
   ],
   "source": [
    "5 + (1098 * 56)"
   ]
  },
  {
   "cell_type": "code",
   "execution_count": 125,
   "metadata": {},
   "outputs": [
    {
     "data": {
      "text/plain": [
       "'5 + (9 + (7 + 5 + 3 * 8 + 4 * 6) + 9 * 8 * 7)'"
      ]
     },
     "execution_count": 125,
     "metadata": {},
     "output_type": "execute_result"
    }
   ],
   "source": [
    "data[0]"
   ]
  },
  {
   "cell_type": "code",
   "execution_count": 134,
   "metadata": {},
   "outputs": [
    {
     "name": "stdout",
     "output_type": "stream",
     "text": [
      "(4 * 5)\n",
      "2 * 3 + 20\n",
      "46\n"
     ]
    }
   ],
   "source": [
    "dat = '2 * 3 + (4 * 5)'\n",
    "#print(dat)\n",
    "parantheses = '0'\n",
    "while re.search(r'\\([\\w\\s+*]+\\)', dat) is not None:\n",
    "    parantheses = re.search(r'\\([\\w\\s+*]+\\)', dat).group()\n",
    "    print(parantheses)\n",
    "    dat = dat.replace(parantheses, prioritised_solver(parantheses))\n",
    "    print(dat)\n",
    "\n",
    "dat = prioritised_solver(dat)\n",
    "print(dat)\n",
    "total += int(dat)"
   ]
  },
  {
   "cell_type": "code",
   "execution_count": 135,
   "metadata": {},
   "outputs": [],
   "source": [
    "total = 0\n",
    "\n",
    "for dat in data:\n",
    "    #print(dat)\n",
    "    parantheses = '0'\n",
    "    while re.search(r'\\([\\w\\s+*]+\\)', dat) is not None:\n",
    "        parantheses = re.search(r'\\([\\w\\s+*]+\\)', dat).group()\n",
    "        #print(parantheses)\n",
    "        dat = dat.replace(parantheses, prioritised_solver(parantheses))\n",
    "        #print(dat)\n",
    "\n",
    "    dat = prioritised_solver(dat)\n",
    "    #print(dat)\n",
    "    total += int(dat)"
   ]
  },
  {
   "cell_type": "code",
   "execution_count": 136,
   "metadata": {},
   "outputs": [
    {
     "data": {
      "text/plain": [
       "388966573054664"
      ]
     },
     "execution_count": 136,
     "metadata": {},
     "output_type": "execute_result"
    }
   ],
   "source": [
    "total"
   ]
  },
  {
   "cell_type": "code",
   "execution_count": null,
   "metadata": {},
   "outputs": [],
   "source": []
  }
 ],
 "metadata": {
  "kernelspec": {
   "display_name": "Python 3",
   "language": "python",
   "name": "python3"
  },
  "language_info": {
   "codemirror_mode": {
    "name": "ipython",
    "version": 3
   },
   "file_extension": ".py",
   "mimetype": "text/x-python",
   "name": "python",
   "nbconvert_exporter": "python",
   "pygments_lexer": "ipython3",
   "version": "3.7.4"
  }
 },
 "nbformat": 4,
 "nbformat_minor": 4
}
