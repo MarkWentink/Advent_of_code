{
 "cells": [
  {
   "cell_type": "markdown",
   "metadata": {},
   "source": [
    "# Advent of Code 2020 - Day 1"
   ]
  },
  {
   "cell_type": "markdown",
   "metadata": {},
   "source": [
    "### Challenge"
   ]
  },
  {
   "cell_type": "markdown",
   "metadata": {},
   "source": [
    "Before you leave, the Elves in accounting just need you to fix your expense report (your puzzle input); apparently, something isn't quite adding up.\n",
    "\n",
    "Specifically, they need you to find the two entries that sum to 2020 and then multiply those two numbers together.\n",
    "\n",
    "For example, suppose your expense report contained the following:\n",
    "\n",
    "`1721\n",
    "979\n",
    "366\n",
    "299\n",
    "675\n",
    "1456`\n",
    "\n",
    "In this list, the two entries that sum to 2020 are 1721 and 299. Multiplying them together produces 1721 * 299 = 514579, so the correct answer is 514579.\n",
    "\n",
    "Of course, your expense report is much larger. Find the two entries that sum to 2020; what do you get if you multiply them together?\n",
    "\n"
   ]
  },
  {
   "cell_type": "code",
   "execution_count": null,
   "metadata": {},
   "outputs": [],
   "source": []
  },
  {
   "cell_type": "markdown",
   "metadata": {},
   "source": [
    "-------------"
   ]
  },
  {
   "cell_type": "code",
   "execution_count": 6,
   "metadata": {},
   "outputs": [],
   "source": [
    "# Prepare an empty list for our data\n",
    "data = []\n",
    "\n",
    "# Open the file as f, pull one line at a time, strip it of the \\n at the end of each line, and append it to our data as an integer. \n",
    "with open(\"AoC2020_1.txt\") as f:\n",
    "    for line in f.readlines():\n",
    "        data.append(int(line.strip()))"
   ]
  },
  {
   "cell_type": "code",
   "execution_count": 10,
   "metadata": {},
   "outputs": [
    {
     "data": {
      "text/plain": [
       "[1078, 1109, 1702, 1293, 1541]"
      ]
     },
     "execution_count": 10,
     "metadata": {},
     "output_type": "execute_result"
    }
   ],
   "source": [
    "data[0:5]"
   ]
  },
  {
   "cell_type": "markdown",
   "metadata": {},
   "source": [
    "We now need to find two entries that sum to 2020.\n",
    "\n",
    "One way to do this is to compare every entry with every other entry and check their sum, but this is an O(x^2) process. Itertools has a combinations() function to make this easier. "
   ]
  },
  {
   "cell_type": "code",
   "execution_count": 11,
   "metadata": {},
   "outputs": [],
   "source": [
    "from itertools import combinations"
   ]
  },
  {
   "cell_type": "code",
   "execution_count": 21,
   "metadata": {},
   "outputs": [
    {
     "name": "stdout",
     "output_type": "stream",
     "text": [
      "751776\n"
     ]
    }
   ],
   "source": [
    "#combinations takes 2 arguments: the dataset, and the number of elements that need to be paired up together. \n",
    "#It then returns all possible combinations in the dataset, not considering the order of the elements. \n",
    "for combo in combinations(data, 2):\n",
    "    if combo[0]+combo[1] == 2020:\n",
    "        print(combo[0]*combo[1])"
   ]
  },
  {
   "cell_type": "markdown",
   "metadata": {},
   "source": [
    "--------------"
   ]
  },
  {
   "cell_type": "markdown",
   "metadata": {},
   "source": [
    "### --- Part Two ---\n"
   ]
  },
  {
   "cell_type": "markdown",
   "metadata": {},
   "source": [
    "\n",
    "The Elves in accounting are thankful for your help; one of them even offers you a starfish coin they had left over from a past vacation. They offer you a second one if you can find three numbers in your expense report that meet the same criteria.\n",
    "\n",
    "Using the above example again, the three entries that sum to 2020 are 979, 366, and 675. Multiplying them together produces the answer, 241861950.\n",
    "\n",
    "In your expense report, what is the product of the three entries that sum to 2020?"
   ]
  },
  {
   "cell_type": "markdown",
   "metadata": {},
   "source": [
    "--------------"
   ]
  },
  {
   "cell_type": "markdown",
   "metadata": {},
   "source": [
    "This works out well for us, as with the itertools.combinations function, we can simply ask for groups of 3 elements and run the same code again!"
   ]
  },
  {
   "cell_type": "code",
   "execution_count": 19,
   "metadata": {},
   "outputs": [
    {
     "name": "stdout",
     "output_type": "stream",
     "text": [
      "42275090\n"
     ]
    }
   ],
   "source": [
    "for combo in combinations(data, 3):\n",
    "    if combo[0]+combo[1]+combo[2] == 2020:\n",
    "        print(combo[0]*combo[1]*combo[2])"
   ]
  },
  {
   "cell_type": "markdown",
   "metadata": {},
   "source": [
    "And Voila, itertools does make our life quite easy!"
   ]
  },
  {
   "cell_type": "markdown",
   "metadata": {},
   "source": [
    "---------"
   ]
  },
  {
   "cell_type": "markdown",
   "metadata": {},
   "source": [
    "There are some other ways of approaching the problem:\n",
    "\n",
    "- You can use a nested loop, but this is also order x^2:\n",
    "\n",
    "`for x in data:\n",
    "   for y in data:\n",
    "        if x + y == 2020:\n",
    "        .....`\n",
    "        \n",
    "- A friend suggested the below code, which runs in linear time!\n",
    "\n",
    "def first_star(data):\n",
    "    # Linear time!\n",
    "    num_dict = {}\n",
    "    for num in data:\n",
    "        val = 2020 - num\n",
    "        if num in num_dict:\n",
    "            print(num_dict[num] * num)\n",
    "        num_dict[val] = num\n",
    "        \n",
    "It goes through the data only once. For each number, "
   ]
  },
  {
   "cell_type": "code",
   "execution_count": null,
   "metadata": {},
   "outputs": [],
   "source": []
  }
 ],
 "metadata": {
  "kernelspec": {
   "display_name": "Python 3",
   "language": "python",
   "name": "python3"
  },
  "language_info": {
   "codemirror_mode": {
    "name": "ipython",
    "version": 3
   },
   "file_extension": ".py",
   "mimetype": "text/x-python",
   "name": "python",
   "nbconvert_exporter": "python",
   "pygments_lexer": "ipython3",
   "version": "3.7.4"
  }
 },
 "nbformat": 4,
 "nbformat_minor": 4
}
