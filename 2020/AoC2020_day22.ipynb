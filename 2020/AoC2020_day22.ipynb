{
 "cells": [
  {
   "cell_type": "markdown",
   "metadata": {},
   "source": [
    "# Advent of Code 2020 - Day 22"
   ]
  },
  {
   "cell_type": "markdown",
   "metadata": {},
   "source": [
    "### Challenge"
   ]
  },
  {
   "cell_type": "code",
   "execution_count": 1,
   "metadata": {},
   "outputs": [],
   "source": [
    "from aocd import data"
   ]
  },
  {
   "cell_type": "code",
   "execution_count": 2,
   "metadata": {},
   "outputs": [],
   "source": [
    "data = data.split('\\n\\n')"
   ]
  },
  {
   "cell_type": "code",
   "execution_count": null,
   "metadata": {},
   "outputs": [],
   "source": []
  },
  {
   "cell_type": "code",
   "execution_count": 86,
   "metadata": {},
   "outputs": [],
   "source": [
    "player1 = []\n",
    "for x in data[0][10:].split('\\n'):\n",
    "    player1.append(int(x))"
   ]
  },
  {
   "cell_type": "code",
   "execution_count": 87,
   "metadata": {},
   "outputs": [],
   "source": [
    "player2 = []\n",
    "for x in data[1][10:].split('\\n'):\n",
    "    player2.append(int(x))"
   ]
  },
  {
   "cell_type": "code",
   "execution_count": 88,
   "metadata": {},
   "outputs": [
    {
     "data": {
      "text/plain": [
       "25"
      ]
     },
     "execution_count": 88,
     "metadata": {},
     "output_type": "execute_result"
    }
   ],
   "source": [
    "len(player2)"
   ]
  },
  {
   "cell_type": "code",
   "execution_count": 89,
   "metadata": {},
   "outputs": [
    {
     "data": {
      "text/plain": [
       "25"
      ]
     },
     "execution_count": 89,
     "metadata": {},
     "output_type": "execute_result"
    }
   ],
   "source": [
    "len(player1)"
   ]
  },
  {
   "cell_type": "code",
   "execution_count": null,
   "metadata": {},
   "outputs": [],
   "source": [
    "while len(player1) > 0 and len(player2) > 0:\n",
    "    #print(player1[0], player2[0])\n",
    "    if player1[0] > player2[0]:\n",
    "        player1.append(player1[0])\n",
    "        player1.append(player2[0])\n",
    "        del player1[0]\n",
    "        del player2[0]\n",
    "    elif player2[0] > player1[0]:\n",
    "        player2.append(player2[0])\n",
    "        player2.append(player1[0])\n",
    "        del player1[0]\n",
    "        del player2[0]\n",
    "    else:\n",
    "        print(\"it's a tie\")\n",
    "        break\n",
    "    #print(player1, player2)"
   ]
  },
  {
   "cell_type": "code",
   "execution_count": 100,
   "metadata": {},
   "outputs": [
    {
     "data": {
      "text/plain": [
       "50"
      ]
     },
     "execution_count": 100,
     "metadata": {},
     "output_type": "execute_result"
    }
   ],
   "source": [
    "len(player1)"
   ]
  },
  {
   "cell_type": "code",
   "execution_count": 105,
   "metadata": {},
   "outputs": [],
   "source": [
    "score = 0\n",
    "for i in range(len(player1), 0, -1):\n",
    "    score += i * player1[len(player1)-i]"
   ]
  },
  {
   "cell_type": "code",
   "execution_count": 106,
   "metadata": {},
   "outputs": [
    {
     "data": {
      "text/plain": [
       "31308"
      ]
     },
     "execution_count": 106,
     "metadata": {},
     "output_type": "execute_result"
    }
   ],
   "source": [
    "score"
   ]
  },
  {
   "cell_type": "code",
   "execution_count": 103,
   "metadata": {},
   "outputs": [
    {
     "data": {
      "text/plain": [
       "int"
      ]
     },
     "execution_count": 103,
     "metadata": {},
     "output_type": "execute_result"
    }
   ],
   "source": [
    "type(player1[0])"
   ]
  },
  {
   "cell_type": "markdown",
   "metadata": {},
   "source": [
    "## Part 2"
   ]
  },
  {
   "cell_type": "code",
   "execution_count": 6,
   "metadata": {},
   "outputs": [],
   "source": [
    "player1 = []\n",
    "for x in data[0][10:].split('\\n'):\n",
    "    player1.append(int(x))\n",
    "player2 = []\n",
    "for x in data[1][10:].split('\\n'):\n",
    "    player2.append(int(x))\n",
    "history = []"
   ]
  },
  {
   "cell_type": "code",
   "execution_count": 90,
   "metadata": {},
   "outputs": [],
   "source": [
    "player1 = [9,2,6,3,1]\n",
    "player2 = [5,8,4,7,10]"
   ]
  },
  {
   "cell_type": "code",
   "execution_count": 7,
   "metadata": {},
   "outputs": [],
   "source": [
    "def recursive_combat(player1, player2, history, game):\n",
    "    x = 0\n",
    "    history = []\n",
    "    while len(player1) > 0 and len(player2) > 0:\n",
    "        \n",
    "        x += 1\n",
    "        #print(\"\\n round\", game, \".\", x)\n",
    "        \n",
    "        \n",
    "        roundID = ''\n",
    "        for i in player1:\n",
    "            roundID += (str(i) + ' ')\n",
    "        roundID += '\\n'\n",
    "        for i in player2:\n",
    "            roundID += (str(i) + ' ')\n",
    "        #print(roundID)\n",
    "        #print(len(history))\n",
    "\n",
    "        if roundID in history:\n",
    "            \n",
    "           # print(\"player 1 wins subgame by repetition\")\n",
    "           # print(\"---------------------\")\n",
    "            return player1, player2\n",
    "        else:\n",
    "            history.append(roundID)\n",
    "\n",
    "        if player1[0] < len(player1) and player2[0] < len(player2):\n",
    "            #print(player1[0], player1[1:player1[0]+1])\n",
    "            #print(player2[0], player2[1:player2[0]+1])\n",
    "            sub1, sub2 = recursive_combat(player1[1:player1[0]+1], player2[1:player2[0]+1], history, game+' . '+str(x))\n",
    "            if len(sub1) == 0:\n",
    "                player2.append(player2[0])\n",
    "                player2.append(player1[0])\n",
    "                del player1[0]\n",
    "                del player2[0]\n",
    "                #print(\"player 2 wins subgame\")\n",
    "                #print(\"---------------------\")\n",
    "\n",
    "            elif len(sub2) == 0:\n",
    "                player1.append(player1[0])\n",
    "                player1.append(player2[0])\n",
    "                del player1[0]\n",
    "                del player2[0]\n",
    "               # print(\"player 1 wins subgame\")\n",
    "                #print(\"---------------------\")\n",
    "\n",
    "            else:\n",
    "                player1.append(player1[0])\n",
    "                player1.append(player2[0])\n",
    "                del player1[0]\n",
    "                del player2[0]\n",
    "               # print(\"game was won through repetition\")\n",
    "\n",
    "        else:\n",
    "            if player1[0] > player2[0]:\n",
    "                player1.append(player1[0])\n",
    "                player1.append(player2[0])\n",
    "                del player1[0]\n",
    "                del player2[0]\n",
    "               # print(\"player 1 wins\")\n",
    "            elif player2[0] > player1[0]:\n",
    "                player2.append(player2[0])\n",
    "                player2.append(player1[0])\n",
    "                del player1[0]\n",
    "                del player2[0]\n",
    "                #print(\"player 2 wins\")\n",
    "            else:\n",
    "                print(\"it's a tie\")\n",
    "\n",
    "    return player1, player2"
   ]
  },
  {
   "cell_type": "code",
   "execution_count": 8,
   "metadata": {},
   "outputs": [],
   "source": [
    "player1, player2 = recursive_combat(player1, player2, history, '')"
   ]
  },
  {
   "cell_type": "code",
   "execution_count": null,
   "metadata": {},
   "outputs": [],
   "source": []
  },
  {
   "cell_type": "code",
   "execution_count": 10,
   "metadata": {},
   "outputs": [
    {
     "data": {
      "text/plain": [
       "[]"
      ]
     },
     "execution_count": 10,
     "metadata": {},
     "output_type": "execute_result"
    }
   ],
   "source": [
    "player2"
   ]
  },
  {
   "cell_type": "code",
   "execution_count": 12,
   "metadata": {},
   "outputs": [],
   "source": [
    "score = 0\n",
    "for i in range(len(player1), 0, -1):\n",
    "    score += i * player1[len(player1)-i]"
   ]
  },
  {
   "cell_type": "code",
   "execution_count": 45,
   "metadata": {},
   "outputs": [],
   "source": [
    "test = [34, 7, 43, 12, 41, 35, 46, 26, 50, 33]"
   ]
  },
  {
   "cell_type": "code",
   "execution_count": 61,
   "metadata": {},
   "outputs": [],
   "source": [
    "score = 0\n",
    "for i in range(len(player1), 0, -1):\n",
    "    score += i * player1[len(player1)-i]"
   ]
  },
  {
   "cell_type": "code",
   "execution_count": 13,
   "metadata": {},
   "outputs": [
    {
     "data": {
      "text/plain": [
       "33647"
      ]
     },
     "execution_count": 13,
     "metadata": {},
     "output_type": "execute_result"
    }
   ],
   "source": [
    "score"
   ]
  },
  {
   "cell_type": "code",
   "execution_count": null,
   "metadata": {},
   "outputs": [],
   "source": []
  }
 ],
 "metadata": {
  "kernelspec": {
   "display_name": "Python 3",
   "language": "python",
   "name": "python3"
  },
  "language_info": {
   "codemirror_mode": {
    "name": "ipython",
    "version": 3
   },
   "file_extension": ".py",
   "mimetype": "text/x-python",
   "name": "python",
   "nbconvert_exporter": "python",
   "pygments_lexer": "ipython3",
   "version": "3.7.4"
  }
 },
 "nbformat": 4,
 "nbformat_minor": 4
}
