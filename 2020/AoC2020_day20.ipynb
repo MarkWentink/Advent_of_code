{
 "cells": [
  {
   "cell_type": "code",
   "execution_count": 1,
   "metadata": {},
   "outputs": [],
   "source": [
    "from aocd import data"
   ]
  },
  {
   "cell_type": "code",
   "execution_count": 3,
   "metadata": {},
   "outputs": [],
   "source": [
    "data = data.split('\\n\\n')"
   ]
  },
  {
   "cell_type": "code",
   "execution_count": 5,
   "metadata": {},
   "outputs": [
    {
     "data": {
      "text/plain": [
       "144"
      ]
     },
     "execution_count": 5,
     "metadata": {},
     "output_type": "execute_result"
    }
   ],
   "source": [
    "len(data)"
   ]
  },
  {
   "cell_type": "code",
   "execution_count": 6,
   "metadata": {},
   "outputs": [
    {
     "data": {
      "text/plain": [
       "'Tile 2131:\\n###..#...#\\n##..#.##.#\\n..###...#.\\n......#..#\\n##.#.....#\\n..#..#...#\\n......#...\\n......#...\\n.........#\\n#.##..#.##'"
      ]
     },
     "execution_count": 6,
     "metadata": {},
     "output_type": "execute_result"
    }
   ],
   "source": [
    "data[0]"
   ]
  },
  {
   "cell_type": "code",
   "execution_count": 12,
   "metadata": {},
   "outputs": [
    {
     "data": {
      "text/plain": [
       "['###..#...#',\n",
       " '##..#.##.#',\n",
       " '..###...#.',\n",
       " '......#..#',\n",
       " '##.#.....#',\n",
       " '..#..#...#',\n",
       " '......#...',\n",
       " '......#...',\n",
       " '.........#',\n",
       " '#.##..#.##']"
      ]
     },
     "execution_count": 12,
     "metadata": {},
     "output_type": "execute_result"
    }
   ],
   "source": [
    "data[0][11:].split('\\n')"
   ]
  },
  {
   "cell_type": "code",
   "execution_count": 13,
   "metadata": {},
   "outputs": [],
   "source": [
    "tiles = {}\n",
    "for tile in data:\n",
    "    tiles[tile[5:9]] = tile[11:].split('\\n')\n",
    "    \n",
    "    "
   ]
  },
  {
   "cell_type": "code",
   "execution_count": 15,
   "metadata": {},
   "outputs": [
    {
     "data": {
      "text/plain": [
       "dict_keys(['2131', '2441', '1571', '2179', '1433', '1283', '1667', '1657', '1259', '2161', '3793', '2953', '1979', '3061', '2731', '1439', '3347', '1559', '3559', '3109', '3701', '1597', '1231', '3389', '3461', '2837', '1423', '3943', '3779', '1583', '3041', '1889', '1493', '1987', '2003', '1297', '3049', '2143', '1753', '3407', '1783', '3593', '1249', '2963', '1289', '2053', '3001', '2591', '1931', '3203', '1747', '3557', '3329', '3067', '3371', '3467', '3923', '1453', '3331', '2633', '1811', '1777', '1697', '2551', '2351', '2689', '3253', '2843', '1187', '3529', '1489', '1097', '3491', '3947', '3313', '1277', '3121', '2287', '1171', '2503', '2579', '1867', '2081', '3319', '3727', '1103', '3463', '3449', '2207', '2647', '2539', '2927', '2153', '3083', '1237', '2239', '1093', '2221', '1523', '3673', '2063', '3631', '2693', '2593', '3607', '1223', '3433', '1217', '2861', '1327', '3613', '2909', '1709', '2857', '3541', '2459', '1621', '3833', '1117', '3413', '2141', '3547', '1069', '3169', '1307', '3359', '2713', '2897', '3929', '1031', '1361', '3853', '1009', '3761', '2521', '1907', '2039', '2389', '2089', '2137', '3191', '2789', '1567', '1163'])"
      ]
     },
     "execution_count": 15,
     "metadata": {},
     "output_type": "execute_result"
    }
   ],
   "source": [
    "tiles.keys()"
   ]
  },
  {
   "cell_type": "code",
   "execution_count": 18,
   "metadata": {},
   "outputs": [
    {
     "data": {
      "text/plain": [
       "'###..#...#'"
      ]
     },
     "execution_count": 18,
     "metadata": {},
     "output_type": "execute_result"
    }
   ],
   "source": [
    "tiles['2131'][0]"
   ]
  },
  {
   "cell_type": "code",
   "execution_count": 32,
   "metadata": {},
   "outputs": [],
   "source": [
    "def rotate(tile):\n",
    "    rotated = []\n",
    "    for x in range(len(tile)):\n",
    "        row = ''\n",
    "        for y in range(len(tile)):\n",
    "            row += tile[len(tile)-y-1][x]\n",
    "        rotated.append(row)\n",
    "    \n",
    "    return rotated"
   ]
  },
  {
   "cell_type": "code",
   "execution_count": 24,
   "metadata": {},
   "outputs": [],
   "source": [
    "def x_flip(tile):\n",
    "    flipped = []\n",
    "    for line in tile:\n",
    "        row = ''\n",
    "        for char in reversed(line):\n",
    "            row += char\n",
    "        flipped.append(row)\n",
    "    \n",
    "    return flipped"
   ]
  },
  {
   "cell_type": "code",
   "execution_count": 19,
   "metadata": {},
   "outputs": [],
   "source": [
    "def y_flip(tile):\n",
    "    flipped = []\n",
    "    for line in reversed(tile):\n",
    "        flipped.append(line)\n",
    "    \n",
    "    return flipped"
   ]
  },
  {
   "cell_type": "code",
   "execution_count": 77,
   "metadata": {},
   "outputs": [],
   "source": [
    "def test_fit(tile1, tile2):\n",
    "    if tile1[-1] == tile2[0]:\n",
    "        #print(\"tile fits under\")\n",
    "        return 0\n",
    "    if tile1[0] == tile2[-1]:\n",
    "        #print(\"tile fits above\")\n",
    "        return 1\n",
    "    found = True\n",
    "    for i in range(len(tile1)):\n",
    "        if tile1[i][0] == tile2[i][-1]:\n",
    "            continue\n",
    "        else:\n",
    "            found = False\n",
    "            break\n",
    "    if found:\n",
    "        #print(\"tile fits left\")\n",
    "        return 2\n",
    "    \n",
    "    found = True\n",
    "    for i in range(len(tile1)):\n",
    "        if tile1[i][-1] == tile2[i][0]:\n",
    "            #print(\"match\")\n",
    "            continue\n",
    "        else:\n",
    "            found = False\n",
    "            break\n",
    "    if found:\n",
    "        #print(\"tile fits right\")\n",
    "        return 3\n",
    "\n",
    "    return 9"
   ]
  },
  {
   "cell_type": "code",
   "execution_count": 33,
   "metadata": {},
   "outputs": [
    {
     "data": {
      "text/plain": [
       "['#....#..##',\n",
       " '.....#..##',\n",
       " '#...#..#.#',\n",
       " '#....#.#..',\n",
       " '.......##.',\n",
       " '....#....#',\n",
       " '#.##..#.#.',\n",
       " '........#.',\n",
       " '#......#..',\n",
       " '##..###.##']"
      ]
     },
     "execution_count": 33,
     "metadata": {},
     "output_type": "execute_result"
    }
   ],
   "source": [
    "rotate(tiles['2131'])"
   ]
  },
  {
   "cell_type": "code",
   "execution_count": 40,
   "metadata": {},
   "outputs": [],
   "source": [
    "test1 = ['..##.#..#.',\n",
    "'##..#.....',\n",
    "'#...##..#.',\n",
    "'####.#...#',\n",
    "'##.##.###.',\n",
    "'##...#.###',\n",
    "'.#.#.#..##',\n",
    "'..#....#..',\n",
    "'###...#.#.',\n",
    "'..###..###']"
   ]
  },
  {
   "cell_type": "code",
   "execution_count": 41,
   "metadata": {},
   "outputs": [],
   "source": [
    "test2 = ['#.#.#####.',\n",
    "'.#..######',\n",
    "'..#.......',\n",
    "'######....',\n",
    "'####.#..#.',\n",
    "'.#...#.##.',\n",
    "'#.#####.##',\n",
    "'..#.###...',\n",
    "'..#.......',\n",
    "'..#.###...']"
   ]
  },
  {
   "cell_type": "code",
   "execution_count": 94,
   "metadata": {},
   "outputs": [],
   "source": [
    "def tile_tester(tile1, tile2):\n",
    "    if test_fit(tile1, tile2) in [0,1,2,3]:\n",
    "        #print(\"direct match\")\n",
    "        return test_fit(tile1, tile2)\n",
    "    elif test_fit(tile1, x_flip(tile2)) in [0,1,2,3]:\n",
    "        #print(\"x flip match\")\n",
    "        return test_fit(tile1, x_flip(tile2)) + 4\n",
    "    elif test_fit(tile1, y_flip(tile2)) in [0,1,2,3]:\n",
    "        #print('y flip match')\n",
    "        return test_fit(tile1, y_flip(tile2)) + 8\n",
    "    elif test_fit(tile1, rotate(tile2)) in [0,1,2,3]:\n",
    "        #print('rotate 90 match')\n",
    "        return test_fit(tile1, rotate(tile2)) + 12\n",
    "    elif test_fit(tile1, rotate(rotate(tile2))) in [0,1,2,3]:\n",
    "        #print('rotate 180 match')\n",
    "        return test_fit(tile1, rotate(rotate(tile2))) + 16\n",
    "    elif test_fit(tile1, rotate(rotate(rotate(tile2)))) in [0,1,2,3]:\n",
    "        #print('rotate 270 match')\n",
    "        return test_fit(tile1, rotate(rotate(rotate(tile2)))) + 20\n",
    "    elif test_fit(tile1, x_flip(rotate(tile2))) in [0,1,2,3]:\n",
    "        #print('xflip rotate 90 match')\n",
    "        return test_fit(tile1, rotate(tile2)) + 24\n",
    "    elif test_fit(tile1, x_flip(rotate(rotate(tile2)))) in [0,1,2,3]:\n",
    "        #print('xflip rotate 180 match')\n",
    "        return test_fit(tile1, rotate(rotate(tile2))) + 28\n",
    "    elif test_fit(tile1, x_flip(rotate(rotate(rotate(tile2))))) in [0,1,2,3]:\n",
    "        #print('xflip rotate 270 match')\n",
    "        return test_fit(tile1, x_flip(rotate(rotate(rotate(tile2))))) + 32\n",
    "    else:\n",
    "        return 99"
   ]
  },
  {
   "cell_type": "code",
   "execution_count": 96,
   "metadata": {},
   "outputs": [
    {
     "name": "stdout",
     "output_type": "stream",
     "text": [
      "2131 has 4 matches\n",
      "2441 has 3 matches\n",
      "1571 has 4 matches\n",
      "2179 has 4 matches\n",
      "1433 has 4 matches\n",
      "1283 has 4 matches\n",
      "1667 has 3 matches\n",
      "1657 has 3 matches\n",
      "1259 has 4 matches\n",
      "2161 has 4 matches\n",
      "3793 has 4 matches\n",
      "2953 has 4 matches\n",
      "1979 has 3 matches\n",
      "3061 has 2 matches\n",
      "2731 has 4 matches\n",
      "1439 has 4 matches\n",
      "3347 has 4 matches\n",
      "1559 has 4 matches\n",
      "3559 has 4 matches\n",
      "3109 has 4 matches\n",
      "3701 has 4 matches\n",
      "1597 has 3 matches\n",
      "1231 has 4 matches\n",
      "3389 has 3 matches\n",
      "3461 has 4 matches\n",
      "2837 has 4 matches\n",
      "1423 has 4 matches\n",
      "3943 has 4 matches\n",
      "3779 has 2 matches\n",
      "1583 has 4 matches\n",
      "3041 has 3 matches\n",
      "1889 has 3 matches\n",
      "1493 has 4 matches\n",
      "1987 has 4 matches\n",
      "2003 has 3 matches\n",
      "1297 has 3 matches\n",
      "3049 has 4 matches\n",
      "2143 has 4 matches\n",
      "1753 has 4 matches\n",
      "3407 has 4 matches\n",
      "1783 has 3 matches\n",
      "3593 has 4 matches\n",
      "1249 has 4 matches\n",
      "2963 has 4 matches\n",
      "1289 has 3 matches\n",
      "2053 has 4 matches\n",
      "3001 has 4 matches\n",
      "2591 has 3 matches\n",
      "1931 has 3 matches\n",
      "3203 has 4 matches\n",
      "1747 has 3 matches\n",
      "3557 has 4 matches\n",
      "3329 has 2 matches\n",
      "3067 has 3 matches\n",
      "3371 has 3 matches\n",
      "3467 has 4 matches\n",
      "3923 has 4 matches\n",
      "1453 has 3 matches\n",
      "3331 has 4 matches\n",
      "2633 has 4 matches\n",
      "1811 has 4 matches\n",
      "1777 has 3 matches\n",
      "1697 has 4 matches\n",
      "2551 has 3 matches\n",
      "2351 has 3 matches\n",
      "2689 has 4 matches\n",
      "3253 has 4 matches\n",
      "2843 has 3 matches\n",
      "1187 has 3 matches\n",
      "3529 has 4 matches\n",
      "1489 has 4 matches\n",
      "1097 has 4 matches\n",
      "3491 has 4 matches\n",
      "3947 has 4 matches\n",
      "3313 has 4 matches\n",
      "1277 has 4 matches\n",
      "3121 has 4 matches\n",
      "2287 has 4 matches\n",
      "1171 has 4 matches\n",
      "2503 has 3 matches\n",
      "2579 has 4 matches\n",
      "1867 has 4 matches\n",
      "2081 has 4 matches\n",
      "3319 has 4 matches\n",
      "3727 has 4 matches\n",
      "1103 has 4 matches\n",
      "3463 has 4 matches\n",
      "3449 has 4 matches\n",
      "2207 has 4 matches\n",
      "2647 has 3 matches\n",
      "2539 has 4 matches\n",
      "2927 has 4 matches\n",
      "2153 has 4 matches\n",
      "3083 has 4 matches\n",
      "1237 has 3 matches\n",
      "2239 has 3 matches\n",
      "1093 has 3 matches\n",
      "2221 has 3 matches\n",
      "1523 has 4 matches\n",
      "3673 has 4 matches\n",
      "2063 has 4 matches\n",
      "3631 has 3 matches\n",
      "2693 has 4 matches\n",
      "2593 has 4 matches\n",
      "3607 has 4 matches\n",
      "1223 has 4 matches\n",
      "3433 has 4 matches\n",
      "1217 has 3 matches\n",
      "2861 has 4 matches\n",
      "1327 has 4 matches\n",
      "3613 has 4 matches\n",
      "2909 has 4 matches\n",
      "1709 has 4 matches\n",
      "2857 has 3 matches\n",
      "3541 has 3 matches\n",
      "2459 has 4 matches\n",
      "1621 has 4 matches\n",
      "3833 has 4 matches\n",
      "1117 has 4 matches\n",
      "3413 has 4 matches\n",
      "2141 has 4 matches\n",
      "3547 has 3 matches\n",
      "1069 has 4 matches\n",
      "3169 has 4 matches\n",
      "1307 has 4 matches\n",
      "3359 has 4 matches\n",
      "2713 has 4 matches\n",
      "2897 has 3 matches\n",
      "3929 has 4 matches\n",
      "1031 has 4 matches\n",
      "1361 has 4 matches\n",
      "3853 has 3 matches\n",
      "1009 has 4 matches\n",
      "3761 has 3 matches\n",
      "2521 has 3 matches\n",
      "1907 has 4 matches\n",
      "2039 has 3 matches\n",
      "2389 has 4 matches\n",
      "2089 has 4 matches\n",
      "2137 has 4 matches\n",
      "3191 has 3 matches\n",
      "2789 has 2 matches\n",
      "1567 has 4 matches\n",
      "1163 has 4 matches\n"
     ]
    }
   ],
   "source": [
    "for key1 in list(tiles.keys()):\n",
    "    count = 0\n",
    "    for key2 in list(tiles.keys()):\n",
    "        if key1 != key2:\n",
    "            \n",
    "            if tile_tester(tiles[key1], tiles[key2]) < 37:\n",
    "                #print(\"tile\", key1, \" is a match with tile\", key2)\n",
    "                count += 1\n",
    "    print(key1, \"has\", count, \"matches\")"
   ]
  },
  {
   "cell_type": "code",
   "execution_count": 97,
   "metadata": {},
   "outputs": [
    {
     "data": {
      "text/plain": [
       "107399567124539"
      ]
     },
     "execution_count": 97,
     "metadata": {},
     "output_type": "execute_result"
    }
   ],
   "source": [
    "2789 * 3329 * 3061 * 3779"
   ]
  },
  {
   "cell_type": "code",
   "execution_count": null,
   "metadata": {},
   "outputs": [],
   "source": []
  }
 ],
 "metadata": {
  "kernelspec": {
   "display_name": "Python 3",
   "language": "python",
   "name": "python3"
  },
  "language_info": {
   "codemirror_mode": {
    "name": "ipython",
    "version": 3
   },
   "file_extension": ".py",
   "mimetype": "text/x-python",
   "name": "python",
   "nbconvert_exporter": "python",
   "pygments_lexer": "ipython3",
   "version": "3.7.4"
  }
 },
 "nbformat": 4,
 "nbformat_minor": 4
}
