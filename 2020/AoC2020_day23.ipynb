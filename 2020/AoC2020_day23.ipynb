{
 "cells": [
  {
   "cell_type": "markdown",
   "metadata": {},
   "source": [
    "# Advent of Code 2020 - Day 23"
   ]
  },
  {
   "cell_type": "markdown",
   "metadata": {},
   "source": [
    "### Challenge"
   ]
  },
  {
   "cell_type": "markdown",
   "metadata": {},
   "source": [
    "--- Day 23: Crab Cups ---\n",
    "The small crab challenges you to a game! The crab is going to mix up some cups, and you have to predict where they'll end up.\n",
    "\n",
    "The cups will be arranged in a circle and labeled clockwise (your puzzle input). For example, if your labeling were 32415, there would be five cups in the circle; going clockwise around the circle from the first cup, the cups would be labeled 3, 2, 4, 1, 5, and then back to 3 again.\n",
    "\n",
    "Before the crab starts, it will designate the first cup in your list as the current cup. The crab is then going to do 100 moves.\n",
    "\n",
    "Each move, the crab does the following actions:\n",
    "\n",
    "The crab picks up the three cups that are immediately clockwise of the current cup. They are removed from the circle; cup spacing is adjusted as necessary to maintain the circle.\n",
    "The crab selects a destination cup: the cup with a label equal to the current cup's label minus one. If this would select one of the cups that was just picked up, the crab will keep subtracting one until it finds a cup that wasn't just picked up. If at any point in this process the value goes below the lowest value on any cup's label, it wraps around to the highest value on any cup's label instead.\n",
    "The crab places the cups it just picked up so that they are immediately clockwise of the destination cup. They keep the same order as when they were picked up.\n",
    "The crab selects a new current cup: the cup which is immediately clockwise of the current cup.\n",
    "For example, suppose your cup labeling were 389125467. If the crab were to do merely 10 moves, the following changes would occur:\n",
    "\n",
    "-- move 1 --\n",
    "cups: (3) 8  9  1  2  5  4  6  7 \n",
    "pick up: 8, 9, 1\n",
    "destination: 2\n",
    "\n",
    "-- move 2 --\n",
    "cups:  3 (2) 8  9  1  5  4  6  7 \n",
    "pick up: 8, 9, 1\n",
    "destination: 7\n",
    "\n",
    "-- move 3 --\n",
    "cups:  3  2 (5) 4  6  7  8  9  1 \n",
    "pick up: 4, 6, 7\n",
    "destination: 3\n",
    "\n",
    "-- move 4 --\n",
    "cups:  7  2  5 (8) 9  1  3  4  6 \n",
    "pick up: 9, 1, 3\n",
    "destination: 7\n",
    "\n",
    "-- move 5 --\n",
    "cups:  3  2  5  8 (4) 6  7  9  1 \n",
    "pick up: 6, 7, 9\n",
    "destination: 3\n",
    "\n",
    "-- move 6 --\n",
    "cups:  9  2  5  8  4 (1) 3  6  7 \n",
    "pick up: 3, 6, 7\n",
    "destination: 9\n",
    "\n",
    "-- move 7 --\n",
    "cups:  7  2  5  8  4  1 (9) 3  6 \n",
    "pick up: 3, 6, 7\n",
    "destination: 8\n",
    "\n",
    "-- move 8 --\n",
    "cups:  8  3  6  7  4  1  9 (2) 5 \n",
    "pick up: 5, 8, 3\n",
    "destination: 1\n",
    "\n",
    "-- move 9 --\n",
    "cups:  7  4  1  5  8  3  9  2 (6)\n",
    "pick up: 7, 4, 1\n",
    "destination: 5\n",
    "\n",
    "-- move 10 --\n",
    "cups: (5) 7  4  1  8  3  9  2  6 \n",
    "pick up: 7, 4, 1\n",
    "destination: 3\n",
    "\n",
    "-- final --\n",
    "cups:  5 (8) 3  7  4  1  9  2  6 \n",
    "In the above example, the cups' values are the labels as they appear moving clockwise around the circle; the current cup is marked with ( ).\n",
    "\n",
    "After the crab is done, what order will the cups be in? Starting after the cup labeled 1, collect the other cups' labels clockwise into a single string with no extra characters; each number except 1 should appear exactly once. In the above example, after 10 moves, the cups clockwise from 1 are labeled 9, 2, 6, 5, and so on, producing 92658374. If the crab were to complete all 100 moves, the order after cup 1 would be 67384529.\n",
    "\n",
    "Using your labeling, simulate 100 moves. What are the labels on the cups after cup 1?"
   ]
  },
  {
   "cell_type": "markdown",
   "metadata": {},
   "source": [
    "------"
   ]
  },
  {
   "cell_type": "code",
   "execution_count": 66,
   "metadata": {},
   "outputs": [],
   "source": [
    "from aocd import data"
   ]
  },
  {
   "cell_type": "code",
   "execution_count": 46,
   "metadata": {},
   "outputs": [
    {
     "data": {
      "text/plain": [
       "[3, 8, 9, 5, 4, 7, 6, 1, 2]"
      ]
     },
     "execution_count": 46,
     "metadata": {},
     "output_type": "execute_result"
    }
   ],
   "source": [
    "data"
   ]
  },
  {
   "cell_type": "code",
   "execution_count": 67,
   "metadata": {},
   "outputs": [],
   "source": [
    "data = []\n",
    "for digit in '389547612':\n",
    "    data.append(int(digit))"
   ]
  },
  {
   "cell_type": "code",
   "execution_count": 68,
   "metadata": {},
   "outputs": [],
   "source": [
    "for number in range(10, 10000):\n",
    "    data.append(number)"
   ]
  },
  {
   "cell_type": "code",
   "execution_count": null,
   "metadata": {},
   "outputs": [],
   "source": []
  },
  {
   "cell_type": "code",
   "execution_count": 69,
   "metadata": {},
   "outputs": [],
   "source": [
    "current_cup = data[0]\n",
    "for i in range(10000):\n",
    "    \n",
    "    #print(\"Current cup: \", current_cup)\n",
    "    to_move = [data[(data.index(current_cup)+1)%len(data)], data[(data.index(current_cup)+2)%len(data)], data[(data.index(current_cup)+3)%len(data)]]      \n",
    "    #print(\"To move: \", to_move)\n",
    "    destination = current_cup-1\n",
    "    if destination == 0:\n",
    "            destination += len(data)\n",
    "    while destination in to_move:\n",
    "        destination -= 1\n",
    "        if destination == 0:\n",
    "            destination += len(data)\n",
    "    #print(\"destination: \", destination)\n",
    "    for digit in to_move:\n",
    "        data.remove(digit)\n",
    "    \n",
    "    \n",
    "    for x in range(len(to_move)): \n",
    "        data.insert(x + data.index(destination)+1, to_move[x]) \n",
    "    #print(data, '\\n')\n",
    "    current_cup = data[(data.index(current_cup)+1)%len(data)]"
   ]
  },
  {
   "cell_type": "code",
   "execution_count": 44,
   "metadata": {},
   "outputs": [
    {
     "data": {
      "text/plain": [
       "[4, 5, 2, 8, 6, 3, 9, 7, 1]"
      ]
     },
     "execution_count": 44,
     "metadata": {},
     "output_type": "execute_result"
    }
   ],
   "source": [
    "data"
   ]
  },
  {
   "cell_type": "code",
   "execution_count": 56,
   "metadata": {},
   "outputs": [
    {
     "data": {
      "text/plain": [
       "219516"
      ]
     },
     "execution_count": 56,
     "metadata": {},
     "output_type": "execute_result"
    }
   ],
   "source": [
    "i"
   ]
  },
  {
   "cell_type": "code",
   "execution_count": null,
   "metadata": {},
   "outputs": [],
   "source": []
  }
 ],
 "metadata": {
  "kernelspec": {
   "display_name": "Python 3",
   "language": "python",
   "name": "python3"
  },
  "language_info": {
   "codemirror_mode": {
    "name": "ipython",
    "version": 3
   },
   "file_extension": ".py",
   "mimetype": "text/x-python",
   "name": "python",
   "nbconvert_exporter": "python",
   "pygments_lexer": "ipython3",
   "version": "3.7.4"
  }
 },
 "nbformat": 4,
 "nbformat_minor": 4
}
