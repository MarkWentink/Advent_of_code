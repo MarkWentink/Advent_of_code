{
 "cells": [
  {
   "cell_type": "code",
   "execution_count": 1,
   "metadata": {},
   "outputs": [],
   "source": [
    "from aocd import data"
   ]
  },
  {
   "cell_type": "code",
   "execution_count": 3,
   "metadata": {},
   "outputs": [],
   "source": [
    "data = data.split('\\n')"
   ]
  },
  {
   "cell_type": "code",
   "execution_count": 4,
   "metadata": {},
   "outputs": [
    {
     "data": {
      "text/plain": [
       "38"
      ]
     },
     "execution_count": 4,
     "metadata": {},
     "output_type": "execute_result"
    }
   ],
   "source": [
    "len(data)"
   ]
  },
  {
   "cell_type": "code",
   "execution_count": 23,
   "metadata": {},
   "outputs": [],
   "source": [
    "foods = []\n",
    "for food in data:\n",
    "    foods.append([ food.split(' (')[0].split(), food.split(' (contains ')[1][:-1].split(', ') ])"
   ]
  },
  {
   "cell_type": "code",
   "execution_count": 31,
   "metadata": {},
   "outputs": [
    {
     "data": {
      "text/plain": [
       "['sesame']"
      ]
     },
     "execution_count": 31,
     "metadata": {},
     "output_type": "execute_result"
    }
   ],
   "source": [
    "foods[16][1]"
   ]
  },
  {
   "cell_type": "code",
   "execution_count": 27,
   "metadata": {},
   "outputs": [],
   "source": [
    "allergens = []\n",
    "for food in foods:\n",
    "    for allergen in food[1]:\n",
    "        if allergen not in allergens:\n",
    "            allergens.append(allergen)"
   ]
  },
  {
   "cell_type": "code",
   "execution_count": 28,
   "metadata": {},
   "outputs": [
    {
     "data": {
      "text/plain": [
       "['shellfish', 'soy', 'wheat', 'fish', 'peanuts', 'sesame', 'eggs', 'dairy']"
      ]
     },
     "execution_count": 28,
     "metadata": {},
     "output_type": "execute_result"
    }
   ],
   "source": [
    "allergens"
   ]
  },
  {
   "cell_type": "code",
   "execution_count": 40,
   "metadata": {},
   "outputs": [
    {
     "name": "stdout",
     "output_type": "stream",
     "text": [
      "shellfish \n",
      " ['jtjtrd', 'xpbxbv'] \n",
      "\n",
      "\n",
      "soy \n",
      " ['fvjkp', 'jtjtrd'] \n",
      "\n",
      "\n",
      "wheat \n",
      " ['gtqfrp', 'fntg', 'zhszc'] \n",
      "\n",
      "\n",
      "fish \n",
      " ['jtjtrd', 'xlvrggj'] \n",
      "\n",
      "\n",
      "peanuts \n",
      " ['rlsr', 'jtjtrd'] \n",
      "\n",
      "\n",
      "sesame \n",
      " ['xpbxbv'] \n",
      "\n",
      "\n",
      "eggs \n",
      " ['gtqfrp', 'jtjtrd'] \n",
      "\n",
      "\n",
      "dairy \n",
      " ['gtqfrp', 'fntg', 'rlsr', 'xpbxbv', 'fvjkp', 'jtjtrd'] \n",
      "\n",
      "\n"
     ]
    }
   ],
   "source": [
    "for allergen in allergens:\n",
    "    suspects = []\n",
    "    for food in foods:\n",
    "        if allergen in food[1]:\n",
    "            if suspects == []:\n",
    "                suspects = list(set(food[0]))\n",
    "            else:\n",
    "                suspects = list(set(suspects) & set(food[0]))\n",
    "    print(allergen, '\\n', suspects, '\\n\\n')"
   ]
  },
  {
   "cell_type": "code",
   "execution_count": 35,
   "metadata": {},
   "outputs": [],
   "source": [
    "suspects = list(set(foods[0][0]))"
   ]
  },
  {
   "cell_type": "code",
   "execution_count": 37,
   "metadata": {},
   "outputs": [],
   "source": [
    "suspects = []"
   ]
  },
  {
   "cell_type": "code",
   "execution_count": 38,
   "metadata": {},
   "outputs": [
    {
     "data": {
      "text/plain": [
       "True"
      ]
     },
     "execution_count": 38,
     "metadata": {},
     "output_type": "execute_result"
    }
   ],
   "source": [
    "suspects == []"
   ]
  },
  {
   "cell_type": "code",
   "execution_count": null,
   "metadata": {},
   "outputs": [],
   "source": [
    "#lkjdslnksdflkjnsdflkjnfs asfnasdflknsdflkjasdf sfdoasfdlknafsdlkafsd fas sfdjk dflkjfsdlkjflkjndflkjas fsdlk fslkj flkjsdlkjfslfnlkjdfnaslkjnf s f lkads fsadklj flkd f dfs flksfjksadlkfasdljkfasdjklfsd fsdlkj sadfl asdflkj falkj asd"
   ]
  },
  {
   "cell_type": "code",
   "execution_count": 41,
   "metadata": {},
   "outputs": [],
   "source": [
    "confirmed = {}\n",
    "confirmed['sesame'] = 'xpbxbv'\n",
    "confirmed['shellfish'] = 'jtjtrd'\n",
    "confirmed['soy'] = 'fvjkp'\n",
    "confirmed['eggs'] = 'gtqfrp'\n",
    "confirmed['peanuts'] = 'rlsr'\n",
    "confirmed['fish'] = 'xlvrggj'\n",
    "confirmed['wheat'] = 'zhszc'\n",
    "confirmed['dairy'] = 'fntg'\n"
   ]
  },
  {
   "cell_type": "code",
   "execution_count": 43,
   "metadata": {},
   "outputs": [
    {
     "data": {
      "text/plain": [
       "['xpbxbv', 'jtjtrd', 'fvjkp', 'gtqfrp', 'rlsr', 'xlvrggj', 'zhszc', 'fntg']"
      ]
     },
     "execution_count": 43,
     "metadata": {},
     "output_type": "execute_result"
    }
   ],
   "source": [
    "list(confirmed.values())"
   ]
  },
  {
   "cell_type": "code",
   "execution_count": 44,
   "metadata": {},
   "outputs": [],
   "source": [
    "count = 0\n",
    "for food in foods:\n",
    "    for ingredient in food[0]:\n",
    "        if ingredient not in list(confirmed.values()):\n",
    "            count += 1"
   ]
  },
  {
   "cell_type": "code",
   "execution_count": 45,
   "metadata": {},
   "outputs": [
    {
     "data": {
      "text/plain": [
       "2287"
      ]
     },
     "execution_count": 45,
     "metadata": {},
     "output_type": "execute_result"
    }
   ],
   "source": [
    "count"
   ]
  },
  {
   "cell_type": "markdown",
   "metadata": {},
   "source": [
    "## Part 2"
   ]
  },
  {
   "cell_type": "code",
   "execution_count": 47,
   "metadata": {},
   "outputs": [
    {
     "data": {
      "text/plain": [
       "['dairy', 'eggs', 'fish', 'peanuts', 'sesame', 'shellfish', 'soy', 'wheat']"
      ]
     },
     "execution_count": 47,
     "metadata": {},
     "output_type": "execute_result"
    }
   ],
   "source": [
    "sorted(confirmed.keys())"
   ]
  },
  {
   "cell_type": "code",
   "execution_count": 50,
   "metadata": {},
   "outputs": [],
   "source": [
    "dangerous = ''\n",
    "for key in sorted(confirmed.keys()):\n",
    "    dangerous = dangerous + confirmed[key] + ','"
   ]
  },
  {
   "cell_type": "code",
   "execution_count": 51,
   "metadata": {},
   "outputs": [
    {
     "data": {
      "text/plain": [
       "'fntg,gtqfrp,xlvrggj,rlsr,xpbxbv,jtjtrd,fvjkp,zhszc,'"
      ]
     },
     "execution_count": 51,
     "metadata": {},
     "output_type": "execute_result"
    }
   ],
   "source": [
    "dangerous"
   ]
  },
  {
   "cell_type": "code",
   "execution_count": null,
   "metadata": {},
   "outputs": [],
   "source": []
  }
 ],
 "metadata": {
  "kernelspec": {
   "display_name": "Python 3",
   "language": "python",
   "name": "python3"
  },
  "language_info": {
   "codemirror_mode": {
    "name": "ipython",
    "version": 3
   },
   "file_extension": ".py",
   "mimetype": "text/x-python",
   "name": "python",
   "nbconvert_exporter": "python",
   "pygments_lexer": "ipython3",
   "version": "3.7.4"
  }
 },
 "nbformat": 4,
 "nbformat_minor": 4
}
