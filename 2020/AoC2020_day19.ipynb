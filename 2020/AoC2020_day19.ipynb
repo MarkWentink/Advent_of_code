{
 "cells": [
  {
   "cell_type": "code",
   "execution_count": 1,
   "metadata": {},
   "outputs": [],
   "source": [
    "from aocd import data"
   ]
  },
  {
   "cell_type": "code",
   "execution_count": 2,
   "metadata": {},
   "outputs": [],
   "source": [
    "data = data.split('\\n')"
   ]
  },
  {
   "cell_type": "code",
   "execution_count": 3,
   "metadata": {},
   "outputs": [
    {
     "data": {
      "text/plain": [
       "136"
      ]
     },
     "execution_count": 3,
     "metadata": {},
     "output_type": "execute_result"
    }
   ],
   "source": [
    "data.index('')"
   ]
  },
  {
   "cell_type": "code",
   "execution_count": 4,
   "metadata": {},
   "outputs": [],
   "source": [
    "rules = data[0:136]"
   ]
  },
  {
   "cell_type": "code",
   "execution_count": 5,
   "metadata": {},
   "outputs": [],
   "source": [
    "strings = data[137:]"
   ]
  },
  {
   "cell_type": "code",
   "execution_count": null,
   "metadata": {},
   "outputs": [],
   "source": []
  },
  {
   "cell_type": "code",
   "execution_count": 7,
   "metadata": {},
   "outputs": [],
   "source": [
    "rule_dict = {}\n",
    "for rule in rules:\n",
    "    rule_dict[rule.split(':')[0]] = rule.split(':')[1][1:]\n",
    "    \n",
    "rule_dict['13'] = 'b'\n",
    "rule_dict['92'] = 'a'"
   ]
  },
  {
   "cell_type": "code",
   "execution_count": 8,
   "metadata": {},
   "outputs": [],
   "source": [
    "import re\n",
    "import itertools"
   ]
  },
  {
   "cell_type": "code",
   "execution_count": null,
   "metadata": {},
   "outputs": [],
   "source": []
  },
  {
   "cell_type": "code",
   "execution_count": 133,
   "metadata": {},
   "outputs": [
    {
     "data": {
      "text/plain": [
       "'8 11'"
      ]
     },
     "execution_count": 133,
     "metadata": {},
     "output_type": "execute_result"
    }
   ],
   "source": [
    "rule_dict['0']"
   ]
  },
  {
   "cell_type": "code",
   "execution_count": 134,
   "metadata": {},
   "outputs": [],
   "source": [
    "def expand(expansion):\n",
    "    for i in range(len(expansion)):\n",
    "        if expansion[i] in ['a', 'b', '']:\n",
    "            pass\n",
    "        else:\n",
    "            expansion[i] = rule_dict[expansion[i]]\n",
    "    \n",
    "    return expansion"
   ]
  },
  {
   "cell_type": "code",
   "execution_count": 135,
   "metadata": {},
   "outputs": [],
   "source": [
    "def join(expansion):\n",
    "    joined = []\n",
    "    for i in range(len(expansion)):\n",
    "        if '|' in expansion[i]:\n",
    "            joined.append(expansion[i])\n",
    "        \n",
    "        elif ' ' in expansion[i]:\n",
    "            for chunk in expansion[i].split(' '):\n",
    "                joined.append(chunk)\n",
    "        else:\n",
    "            joined.append(expansion[i])\n",
    "    expansion = joined\n",
    "    #print(expansion)\n",
    "    return expansion"
   ]
  },
  {
   "cell_type": "code",
   "execution_count": 136,
   "metadata": {},
   "outputs": [],
   "source": [
    "def split(expansion):\n",
    "    for i in range(len(expansion)):\n",
    "        if ' | ' in expansion[i]:\n",
    "            expansion[i] = expansion[i].split(' | ')\n",
    "    \n",
    "    return list(itertools.product(*expansion))"
   ]
  },
  {
   "cell_type": "code",
   "execution_count": 146,
   "metadata": {},
   "outputs": [],
   "source": [
    "rule0 = rule0.replace('8', rule_dict['8'])"
   ]
  },
  {
   "cell_type": "code",
   "execution_count": 147,
   "metadata": {},
   "outputs": [
    {
     "data": {
      "text/plain": [
       "'42 11'"
      ]
     },
     "execution_count": 147,
     "metadata": {},
     "output_type": "execute_result"
    }
   ],
   "source": [
    "rule0"
   ]
  },
  {
   "cell_type": "code",
   "execution_count": 148,
   "metadata": {},
   "outputs": [
    {
     "data": {
      "text/plain": [
       "'13 127 | 92 67'"
      ]
     },
     "execution_count": 148,
     "metadata": {},
     "output_type": "execute_result"
    }
   ],
   "source": [
    "rule_dict['42']"
   ]
  },
  {
   "cell_type": "code",
   "execution_count": null,
   "metadata": {},
   "outputs": [],
   "source": []
  },
  {
   "cell_type": "code",
   "execution_count": null,
   "metadata": {},
   "outputs": [],
   "source": []
  },
  {
   "cell_type": "code",
   "execution_count": null,
   "metadata": {},
   "outputs": [],
   "source": []
  },
  {
   "cell_type": "code",
   "execution_count": null,
   "metadata": {},
   "outputs": [],
   "source": []
  },
  {
   "cell_type": "code",
   "execution_count": null,
   "metadata": {},
   "outputs": [],
   "source": []
  },
  {
   "cell_type": "code",
   "execution_count": 12,
   "metadata": {},
   "outputs": [],
   "source": [
    "expansion = []\n",
    "for section in rule_dict['0'].split():\n",
    "    expansion.append(section)\n",
    "options = [expansion]"
   ]
  },
  {
   "cell_type": "code",
   "execution_count": 524,
   "metadata": {},
   "outputs": [],
   "source": [
    "for i in range(len(options)):\n",
    "    if options[i] in options[i+1:]:\n",
    "        print(\"found duplicate\", i)"
   ]
  },
  {
   "cell_type": "code",
   "execution_count": null,
   "metadata": {},
   "outputs": [],
   "source": [
    "['b', 'a', 'a', 'b', '92 45 | 13 68', 'b', 'b', 'a', 'a', 'b', '92 45 | 13 68', 'b', 'b', 'b', '60 13 | 130 92', 'a', 'a', 'a']"
   ]
  },
  {
   "cell_type": "code",
   "execution_count": 639,
   "metadata": {},
   "outputs": [
    {
     "data": {
      "text/plain": [
       "'b'"
      ]
     },
     "execution_count": 639,
     "metadata": {},
     "output_type": "execute_result"
    }
   ],
   "source": [
    "rule_dict['13']"
   ]
  },
  {
   "cell_type": "code",
   "execution_count": 672,
   "metadata": {},
   "outputs": [],
   "source": [
    "import copy"
   ]
  },
  {
   "cell_type": "code",
   "execution_count": 754,
   "metadata": {},
   "outputs": [],
   "source": [
    "trial = copy.deepcopy(options)"
   ]
  },
  {
   "cell_type": "code",
   "execution_count": 767,
   "metadata": {},
   "outputs": [
    {
     "data": {
      "text/plain": [
       "['b',\n",
       " 'a',\n",
       " 'a',\n",
       " 'a',\n",
       " '92',\n",
       " '92',\n",
       " 'b',\n",
       " 'b',\n",
       " 'b',\n",
       " 'a',\n",
       " 'b',\n",
       " 'a',\n",
       " '63 13 | 33 92',\n",
       " 'b',\n",
       " 'b',\n",
       " 'b',\n",
       " '13 71 | 92 92',\n",
       " 'b',\n",
       " 'a',\n",
       " 'a',\n",
       " 'a']"
      ]
     },
     "execution_count": 767,
     "metadata": {},
     "output_type": "execute_result"
    }
   ],
   "source": [
    "options[32]"
   ]
  },
  {
   "cell_type": "code",
   "execution_count": 19,
   "metadata": {},
   "outputs": [
    {
     "data": {
      "text/plain": [
       "[['13 127 | 92 67', '13 127 | 92 67', '13 3 | 92 26']]"
      ]
     },
     "execution_count": 19,
     "metadata": {},
     "output_type": "execute_result"
    }
   ],
   "source": [
    "options"
   ]
  },
  {
   "cell_type": "code",
   "execution_count": 18,
   "metadata": {},
   "outputs": [],
   "source": [
    "to_remove = []\n",
    "\n",
    "for i in range(len(options)):\n",
    "    expanding = True\n",
    "    #print(\"option: \" ,options[i])\n",
    "    for step in options[i]:\n",
    "        #print(step)\n",
    "        if re.search(r'\\|', step):\n",
    "            #print(\"found a split at \", i)\n",
    "            #print(\"Sending to get split: \", options[i])\n",
    "            splitted = split(options[i])\n",
    "            to_remove.append(i)\n",
    "            #print(\"Will remember to remove entries: \", i)\n",
    "            #print(\"Split returned: \", splitted)\n",
    "            for splt in splitted:\n",
    "                options.append(list(splt))\n",
    "            expanding = False\n",
    "            #print(options)\n",
    "            break\n",
    "        elif re.search(r' ', step):\n",
    "            #print(\"found a space at \", i)\n",
    "            joined = join(options[i])\n",
    "            expanding = False\n",
    "            options[i] = joined\n",
    "            break\n",
    "        else:\n",
    "            #print(\"Can expand\")\n",
    "            pass\n",
    "    if expanding:\n",
    "        #print(\"expanding\")\n",
    "        expansion = expand(options[i])\n",
    "        options[i] = expansion\n",
    "#print(\"Removing: \", to_remove)\n",
    "for i in reversed(to_remove):\n",
    "    del options[i]\n",
    "#print(options)"
   ]
  },
  {
   "cell_type": "code",
   "execution_count": 349,
   "metadata": {},
   "outputs": [
    {
     "data": {
      "text/plain": [
       "[('4', '4'),\n",
       " ('4', '2'),\n",
       " ('4', ' '),\n",
       " ('4', '3'),\n",
       " ('4', '1'),\n",
       " ('2', '4'),\n",
       " ('2', '2'),\n",
       " ('2', ' '),\n",
       " ('2', '3'),\n",
       " ('2', '1')]"
      ]
     },
     "execution_count": 349,
     "metadata": {},
     "output_type": "execute_result"
    }
   ],
   "source": [
    "split(expansion)"
   ]
  },
  {
   "cell_type": "code",
   "execution_count": 47,
   "metadata": {},
   "outputs": [],
   "source": [
    "def expand(expansion):\n",
    "\n",
    "    for i in range(len(expansion)):\n",
    "        expansion[i] = rule_dict[expansion[i]]\n",
    "        \n",
    "    return expansion"
   ]
  },
  {
   "cell_type": "code",
   "execution_count": null,
   "metadata": {},
   "outputs": [],
   "source": [
    "for chunk in expansion:\n",
    "    if len(chunk) > "
   ]
  },
  {
   "cell_type": "code",
   "execution_count": 45,
   "metadata": {},
   "outputs": [],
   "source": [
    "for i in range(len(expansion)):\n",
    "    if ' ' in expansion[i]:\n",
    "        expansion[i] = list(expansion[i].split())"
   ]
  },
  {
   "cell_type": "code",
   "execution_count": 46,
   "metadata": {},
   "outputs": [
    {
     "data": {
      "text/plain": [
       "['42', ['42', '31']]"
      ]
     },
     "execution_count": 46,
     "metadata": {},
     "output_type": "execute_result"
    }
   ],
   "source": [
    "expansion"
   ]
  },
  {
   "cell_type": "code",
   "execution_count": null,
   "metadata": {},
   "outputs": [],
   "source": []
  },
  {
   "cell_type": "code",
   "execution_count": null,
   "metadata": {},
   "outputs": [],
   "source": []
  },
  {
   "cell_type": "code",
   "execution_count": null,
   "metadata": {},
   "outputs": [],
   "source": []
  },
  {
   "cell_type": "code",
   "execution_count": 9,
   "metadata": {},
   "outputs": [],
   "source": [
    "for key in rule_dict.keys():\n",
    "    if '92' in rule_dict[key]:\n",
    "        #print(key, rule_dict[key])\n",
    "        rule_dict[key] = rule_dict[key].replace('92', 'a')\n",
    "        #print(key, rule_dict[key])\n",
    "del rule_dict['92'] \n",
    "\n",
    "for key in rule_dict.keys():\n",
    "    if ' 13 ' in rule_dict[key]:\n",
    "        #print(key, rule_dict[key])\n",
    "        rule_dict[key] = rule_dict[key].replace(' 13 ', ' b ')\n",
    "        #print(key, rule_dict[key])\n",
    "del rule_dict['13'] "
   ]
  },
  {
   "cell_type": "code",
   "execution_count": null,
   "metadata": {},
   "outputs": [],
   "source": []
  },
  {
   "cell_type": "code",
   "execution_count": null,
   "metadata": {},
   "outputs": [],
   "source": [
    "for edit in edit_keys:\n",
    "\n",
    "    for key in rule_dict.keys():\n",
    "        if ' '+str(edit)+' ' in rule_dict[key]:\n",
    "            print(key, rule_dict[key])\n",
    "            rule_dict[key] = rule_dict[key].replace(edit, '('+rule_dict[edit]+')')\n",
    "            #print(key, rule_dict[key])\n",
    "    #del rule_dict[edit]    \n",
    "    \n",
    "for edit in edit_keys:\n",
    "\n",
    "    for key in rule_dict.keys():\n",
    "        if str(edit) in rule_dict[key]:\n",
    "            print(key, rule_dict[key])\n",
    "            rule_dict[key] = rule_dict[key].replace(edit, '('+rule_dict[edit]+')')\n",
    "            #print(key, rule_dict[key])\n",
    "    del rule_dict[edit]  "
   ]
  },
  {
   "cell_type": "code",
   "execution_count": 35,
   "metadata": {},
   "outputs": [],
   "source": [
    "edit_keys = []\n",
    "for i in range(2, 5):\n",
    "    if str(i) in rule_dict.keys():\n",
    "        edit_keys.append(str(i))"
   ]
  },
  {
   "cell_type": "code",
   "execution_count": 1,
   "metadata": {},
   "outputs": [
    {
     "ename": "NameError",
     "evalue": "name 'rule_dict' is not defined",
     "output_type": "error",
     "traceback": [
      "\u001b[0;31m---------------------------------------------------------------------------\u001b[0m",
      "\u001b[0;31mNameError\u001b[0m                                 Traceback (most recent call last)",
      "\u001b[0;32m<ipython-input-1-467b3d0e1be9>\u001b[0m in \u001b[0;36m<module>\u001b[0;34m\u001b[0m\n\u001b[0;32m----> 1\u001b[0;31m \u001b[0mrule_dict\u001b[0m\u001b[0;34m[\u001b[0m\u001b[0;34m'4'\u001b[0m\u001b[0;34m]\u001b[0m\u001b[0;34m\u001b[0m\u001b[0;34m\u001b[0m\u001b[0m\n\u001b[0m",
      "\u001b[0;31mNameError\u001b[0m: name 'rule_dict' is not defined"
     ]
    }
   ],
   "source": [
    "rule_dict['4']"
   ]
  },
  {
   "cell_type": "code",
   "execution_count": null,
   "metadata": {},
   "outputs": [],
   "source": []
  },
  {
   "cell_type": "code",
   "execution_count": 192,
   "metadata": {},
   "outputs": [
    {
     "name": "stdout",
     "output_type": "stream",
     "text": [
      "44 a b | a a\n",
      "130 a a | b b\n",
      "45 b a | b b\n",
      "41 a a | b a\n"
     ]
    }
   ],
   "source": [
    "edit_keys = []\n",
    "for key in rule_dict.keys():\n",
    "    if not re.search(r\"[0-9]\", rule_dict[key]):\n",
    "        edit_keys.append(key)\n",
    "        print(key, rule_dict[key])"
   ]
  },
  {
   "cell_type": "code",
   "execution_count": 193,
   "metadata": {},
   "outputs": [
    {
     "data": {
      "text/plain": [
       "['44', '130', '45', '41']"
      ]
     },
     "execution_count": 193,
     "metadata": {},
     "output_type": "execute_result"
    }
   ],
   "source": [
    "edit_keys"
   ]
  },
  {
   "cell_type": "code",
   "execution_count": null,
   "metadata": {},
   "outputs": [],
   "source": []
  },
  {
   "cell_type": "code",
   "execution_count": 105,
   "metadata": {},
   "outputs": [
    {
     "name": "stdout",
     "output_type": "stream",
     "text": [
      "92 \"a\"\n",
      "13 \"b\"\n"
     ]
    }
   ],
   "source": [
    "for key in rule_dict.keys():\n",
    "    if re.match(r\"\\\"[a-z]\\\"\", rule_dict[key]):\n",
    "        print(key, rule_dict[key])"
   ]
  },
  {
   "cell_type": "code",
   "execution_count": null,
   "metadata": {},
   "outputs": [],
   "source": []
  },
  {
   "cell_type": "code",
   "execution_count": 129,
   "metadata": {},
   "outputs": [],
   "source": [
    "rule_dict[92] = rule_dict[92].replace(\"a\", 'a')\n",
    "rule_dict[13] = rule_dict[92].replace(\"b\", 'b')"
   ]
  },
  {
   "cell_type": "code",
   "execution_count": 24,
   "metadata": {},
   "outputs": [
    {
     "data": {
      "text/plain": [
       "'a'"
      ]
     },
     "execution_count": 24,
     "metadata": {},
     "output_type": "execute_result"
    }
   ],
   "source": [
    "rule_dict['92']"
   ]
  },
  {
   "cell_type": "code",
   "execution_count": 23,
   "metadata": {},
   "outputs": [],
   "source": [
    "edit_keys = []\n",
    "for i in range(1,12):\n",
    "    if str(i) in rule_dict.keys():\n",
    "        edit_keys.append(str(i))\n",
    "    "
   ]
  },
  {
   "cell_type": "code",
   "execution_count": 28,
   "metadata": {},
   "outputs": [],
   "source": [
    "#edit_keys"
   ]
  },
  {
   "cell_type": "code",
   "execution_count": 6,
   "metadata": {},
   "outputs": [],
   "source": [
    "rule_dict = {}\n",
    "for rule in rules:\n",
    "    rule_dict[rule.split(':')[0]] = rule.split(':')[1][1:]\n",
    "    \n",
    "rule_dict['13'] = 'b'\n",
    "rule_dict['92'] = 'a'"
   ]
  },
  {
   "cell_type": "code",
   "execution_count": 24,
   "metadata": {},
   "outputs": [],
   "source": [
    "#edit_keys = []\n",
    "#for key in rule_dict.keys():\n",
    "#    if re.match(r\"^[ A-Za-z]+$\", rule_dict[key]):\n",
    "#        edit_keys.append(key)\n",
    "\n",
    "for edit in edit_keys:\n",
    "    for key in rule_dict.keys():\n",
    "        if str(edit) in rule_dict[key]:\n",
    "            #print(key, rule_dict[key])\n",
    "            rule_dict[key] = rule_dict[key].replace(str(edit), '('+rule_dict[str(edit)]+') ')\n",
    "            #print(key, rule_dict[key])\n",
    "    del rule_dict[str(edit)]"
   ]
  },
  {
   "cell_type": "code",
   "execution_count": 25,
   "metadata": {},
   "outputs": [
    {
     "data": {
      "text/plain": [
       "{'0': '(((b)  (((a)  ((a)  ((b)  ((a)  ((b)  (a)  | (b)  (b) )  | (b)  ((b)  (a)  | (a)  (b) ) )  | (a)  (((a)  (a)  | (b)  (b) )  (a)  | ((a)  (a) )  (b) ) )  | (b)  ((a)  (((a)  (a)  | (b)  (a) )  ((b)  | (a) ) )  | (b)  ((a)  ((b)  (b)  | (a)  ((b)  | (a) ) )  | (b)  ((a)  (a) ) ) ) )  | (b)  ((a)  ((a)  ((b)  ((b)  (a)  | (b)  (b) )  | (a)  ((a)  (a)  | (b)  (a) ) )  | (b)  (((a)  (a) )  (b)  | ((a)  (b) )  (a) ) )  | (b)  ((b)  ((b)  ((a)  (a)  | (b)  (a) )  | (a)  ((b)  (a)  | (a)  ((b)  | (a) ) ) )  | (a)  (((a)  (b)  | (b)  (b) )  (a) ) ) ) )  (b)  | (((b)  ((((a)  (b) )  (b)  | ((b)  (a)  | (a)  (b) )  (a) )  (a)  | (((b)  (a)  | ((b)  | (a) )  (b) )  (b)  | ((b)  (a)  | (a)  ((b)  | (a) ) )  (a) )  (b) )  | (a)  ((b)  ((b)  ((b)  (a)  | (a)  ((b)  | (a) ) )  | (a)  ((a)  (a) ) )  | (a)  (((b)  | (a) )  ((a)  (b)  | (b)  (b) ) ) ) )  (a)  | ((a)  ((a)  ((a)  ((b)  ((b)  | (a) )  | (a)  (a) )  | (b)  ((a)  (b)  | (b)  (b) ) )  | (b)  (((b)  ((b)  | (a) )  | (a)  (a) )  (b)  | ((b)  (a)  | ((b)  | (a) )  (b) )  (a) ) )  | (b)  ((b)  (((b)  | (a) )  ((b)  (b)  | (a)  ((b)  | (a) ) ) )  | (a)  ((b)  ((b)  (a)  | (a)  (b) )  | (a)  ((b)  (a)  | ((b)  | (a) )  (b) ) ) ) )  (b) )  (a) )  | (a)  (((b)  (((b)  ((a)  ((b)  (a)  | ((b)  | (a) )  (b) )  | (b)  ((b)  (b)  | (a)  ((b)  | (a) ) ) )  | (a)  (((a)  (a) )  (a)  | ((a)  (a)  | (b)  (b) )  (b) ) )  (a)  | (((b)  ((a)  (b)  | (b)  (b) )  | (a)  ((b)  (b)  | (a)  ((b)  | (a) ) ) )  (a)  | ((b)  ((b)  (a)  | (b)  (b) )  | (a)  ((a)  (b) ) )  (b) )  (b) )  | (a)  ((b)  ((a)  (((a)  (b)  | (b)  (b) )  (b) )  | (b)  ((a)  ((b)  (a)  | ((b)  | (a) )  (b) )  | (b)  ((a)  (a) ) ) )  | (a)  ((((b)  (a)  | (a)  ((b)  | (a) ) )  (b)  | ((a)  (b) )  (a) )  (b)  | ((b)  ((b)  (a)  | (b)  (b) )  | (a)  ((b)  ((b)  | (a) )  | (a)  (a) ) )  (a) ) ) )  (a)  | ((((b)  (((a)  (a) )  (b)  | ((a)  (a)  | (b)  (a) )  (a) )  | (a)  (((a)  (b)  | (b)  (b) )  (b) ) )  (a)  | (((b)  ((b)  (a)  | (a)  (b) ) )  (b)  | (((b)  | (a) )  ((b)  (a)  | ((b)  | (a) )  (b) ) )  (a) )  (b) )  (b)  | ((a)  ((((a)  (b) )  (b)  | ((b)  (a)  | (a)  ((b)  | (a) ) )  (a) )  (b)  | (((a)  (a)  | (b)  (b) )  (a)  | ((a)  (a)  | (b)  (a) )  (b) )  (a) )  | (b)  ((((b)  ((b)  | (a) )  | (a)  (a) )  (b)  | ((a)  (b) )  (a) )  (a)  | ((b)  ((a)  (a) )  | (a)  ((b)  (a)  | (a)  ((b)  | (a) ) ) )  (b) ) )  (a) )  (b) ) ) )  (((b)  ((((a)  (b) )  (b)  | ((b)  (a)  | (a)  (b) )  (a) )  (a)  | (((b)  (a)  | ((b)  | (a) )  (b) )  (b)  | ((b)  (a)  | (a)  ((b)  | (a) ) )  (a) )  (b) )  | (a)  ((b)  ((b)  ((b)  (a)  | (a)  ((b)  | (a) ) )  | (a)  ((a)  (a) ) )  | (a)  (((b)  | (a) )  ((a)  (b)  | (b)  (b) ) ) ) )  (a)  | ((a)  ((a)  ((a)  ((b)  ((b)  | (a) )  | (a)  (a) )  | (b)  ((a)  (b)  | (b)  (b) ) )  | (b)  (((b)  ((b)  | (a) )  | (a)  (a) )  (b)  | ((b)  (a)  | ((b)  | (a) )  (b) )  (a) ) )  | (b)  ((b)  (((b)  | (a) )  ((b)  (b)  | (a)  ((b)  | (a) ) ) )  | (a)  ((b)  ((b)  (a)  | (a)  (b) )  | (a)  ((b)  (a)  | ((b)  | (a) )  (b) ) ) ) )  (b) ) (((b)  ((((a)  (b) )  (b)  | ((b)  (a)  | (a)  (b) )  (a) )  (a)  | (((b)  (a)  | ((b)  | (a) )  (b) )  (b)  | ((b)  (a)  | (a)  ((b)  | (a) ) )  (a) )  (b) )  | (a)  ((b)  ((b)  ((b)  (a)  | (a)  ((b)  | (a) ) )  | (a)  ((a)  (a) ) )  | (a)  (((b)  | (a) )  ((a)  (b)  | (b)  (b) ) ) ) )  (a)  | ((a)  ((a)  ((a)  ((b)  ((b)  | (a) )  | (a)  (a) )  | (b)  ((a)  (b)  | (b)  (b) ) )  | (b)  (((b)  ((b)  | (a) )  | (a)  (a) )  (b)  | ((b)  (a)  | ((b)  | (a) )  (b) )  (a) ) )  | (b)  ((b)  (((b)  | (a) )  ((b)  (b)  | (a)  ((b)  | (a) ) ) )  | (a)  ((b)  ((b)  (a)  | (a)  (b) )  | (a)  ((b)  (a)  | ((b)  | (a) )  (b) ) ) ) )  (b) ) '}"
      ]
     },
     "execution_count": 25,
     "metadata": {},
     "output_type": "execute_result"
    }
   ],
   "source": [
    "rule_dict"
   ]
  },
  {
   "cell_type": "code",
   "execution_count": 21,
   "metadata": {},
   "outputs": [],
   "source": [
    "rule8 = rule_dict['8']"
   ]
  },
  {
   "cell_type": "code",
   "execution_count": 22,
   "metadata": {},
   "outputs": [],
   "source": [
    "rule11 = rule_dict['11']"
   ]
  },
  {
   "cell_type": "code",
   "execution_count": 38,
   "metadata": {},
   "outputs": [],
   "source": [
    "rule0 = rule_dict['0']"
   ]
  },
  {
   "cell_type": "code",
   "execution_count": 49,
   "metadata": {},
   "outputs": [],
   "source": [
    "import re"
   ]
  },
  {
   "cell_type": "code",
   "execution_count": 57,
   "metadata": {},
   "outputs": [
    {
     "data": {
      "text/plain": [
       "'(b((a(a(b(a(ba|bb)|b(ba|ab))|a((aa|bb)a|(aa)b))|b(a((aa|ba)(b|a))|b(a(bb|a(b|a))|b(aa))))|b(a(a(b(ba|bb)|a(aa|ba))|b((aa)b|(ab)a))|b(b(b(aa|ba)|a(ba|a(b|a)))|a((ab|bb)a))))b|((b(((ab)b|(ba|ab)a)a|((ba|(b|a)b)b|(ba|a(b|a))a)b)|a(b(b(ba|a(b|a))|a(aa))|a((b|a)(ab|bb))))a|(a(a(a(b(b|a)|aa)|b(ab|bb))|b((b(b|a)|aa)b|(ba|(b|a)b)a))|b(b((b|a)(bb|a(b|a)))|a(b(ba|ab)|a(ba|(b|a)b))))b)a)|a((b((b(a(ba|(b|a)b)|b(bb|a(b|a)))|a((aa)a|(aa|bb)b))a|((b(ab|bb)|a(bb|a(b|a)))a|(b(ba|bb)|a(ab))b)b)|a(b(a((ab|bb)b)|b(a(ba|(b|a)b)|b(aa)))|a(((ba|a(b|a))b|(ab)a)b|(b(ba|bb)|a(b(b|a)|aa))a)))a|(((b((aa)b|(aa|ba)a)|a((ab|bb)b))a|((b(ba|ab))b|((b|a)(ba|(b|a)b))a)b)b|(a(((ab)b|(ba|a(b|a))a)b|((aa|bb)a|(aa|ba)b)a)|b(((b(b|a)|aa)b|(ab)a)a|(b(aa)|a(ba|a(b|a)))b))a)b))'"
      ]
     },
     "execution_count": 57,
     "metadata": {},
     "output_type": "execute_result"
    }
   ],
   "source": [
    "rule8"
   ]
  },
  {
   "cell_type": "code",
   "execution_count": 84,
   "metadata": {},
   "outputs": [],
   "source": [
    "rule31 = rule11[745:]"
   ]
  },
  {
   "cell_type": "code",
   "execution_count": 42,
   "metadata": {},
   "outputs": [],
   "source": [
    "rule11 = rule11.replace('(a)', 'a')\n",
    "rule11 = rule11.replace('(b)', 'b')"
   ]
  },
  {
   "cell_type": "code",
   "execution_count": 43,
   "metadata": {},
   "outputs": [],
   "source": [
    "rule11 = rule11.replace(' ', '')"
   ]
  },
  {
   "cell_type": "code",
   "execution_count": 64,
   "metadata": {},
   "outputs": [
    {
     "data": {
      "text/plain": [
       "'(b((a(a(b(a(ba|bb)|b(ba|ab))|a((aa|bb)a|(aa)b))|b(a((aa|ba)(b|a))|b(a(bb|a(b|a))|b(aa))))|b(a(a(b(ba|bb)|a(aa|ba))|b((aa)b|(ab)a))|b(b(b(aa|ba)|a(ba|a(b|a)))|a((ab|bb)a))))b|((b(((ab)b|(ba|ab)a)a|((ba|(b|a)b)b|(ba|a(b|a))a)b)|a(b(b(ba|a(b|a))|a(aa))|a((b|a)(ab|bb))))a|(a(a(a(b(b|a)|aa)|b(ab|bb))|b((b(b|a)|aa)b|(ba|(b|a)b)a))|b(b((b|a)(bb|a(b|a)))|a(b(ba|ab)|a(ba|(b|a)b))))b)a)|a((b((b(a(ba|(b|a)b)|b(bb|a(b|a)))|a((aa)a|(aa|bb)b))a|((b(ab|bb)|a(bb|a(b|a)))a|(b(ba|bb)|a(ab))b)b)|a(b(a((ab|bb)b)|b(a(ba|(b|a)b)|b(aa)))|a(((ba|a(b|a))b|(ab)a)b|(b(ba|bb)|a(b(b|a)|aa))a)))a|(((b((aa)b|(aa|ba)a)|a((ab|bb)b))a|((b(ba|ab))b|((b|a)(ba|(b|a)b))a)b)b|(a(((ab)b|(ba|a(b|a))a)b|((aa|bb)a|(aa|ba)b)a)|b(((b(b|a)|aa)b|(ab)a)a|(b(aa)|a(ba|a(b|a)))b))a)b))'"
      ]
     },
     "execution_count": 64,
     "metadata": {},
     "output_type": "execute_result"
    }
   ],
   "source": [
    "rule8"
   ]
  },
  {
   "cell_type": "code",
   "execution_count": 73,
   "metadata": {},
   "outputs": [],
   "source": [
    "regex2 = '^'+rule8 + '+' + rule11+'$'"
   ]
  },
  {
   "cell_type": "code",
   "execution_count": 83,
   "metadata": {},
   "outputs": [
    {
     "data": {
      "text/plain": [
       "'(b((((b((b(b|a)|aa)b|(aa|bb)a)|a(a((b|a)(b|a))|b(ab)))a|(((ab)b|(ba|ab)a)b|((bb)b|(ab)a)a)b)a|(a(((ab)b|(ba|ab)a)a|((aa)a|(ba)b)b)|b(a((bb)b|(aa|ba)a)|b((ab|bb)a)))b)a|(((((b(b|a)|aa)a|(aa|ba)b)b|((aa|ba)b|(bb)a)a)a|((b(ab)|a(ba|bb))b|((ab)b|(ab|aa)a)a)b)a|((a(b(bb)|a(ba|ab))|b((b|a)(bb|a(b|a))))a|(a((b|a)(bb|a(b|a)))|b(((b|a)(b|a))a|(ba|(b|a)b)b))b)b)b)|a((a(((b(ba|(b|a)b)|a(ab))b|(b(aa|bb)|a(ba|bb))a)a|(((b|a)(ba|a(b|a)))a|(b(ab|bb)|a(bb|a(b|a)))b)b)|b(b(a((ba)b|(aa|bb)a)|b((bb|a(b|a))a|(b(b|a)|aa)b))|a((b(aa|ba)|a(ab|bb))b|(b(ba|bb)|a(aa))a)))b|((a(b((ba|a(b|a))a|(bb|a(b|a))b)|a((aa|ba)b|(ba)a))|b(((aa)b|(ab)a)b|(a(ba|(b|a)b)|b(aa|bb))a))a|(a(((ba|(b|a)b)b|(ba|a(b|a))a)a|((ab|bb)b)b)|b(a((b(b|a)|aa)b|(ba)a)|b(a(bb|a(b|a))|b(aa))))b)a))'"
      ]
     },
     "execution_count": 83,
     "metadata": {},
     "output_type": "execute_result"
    }
   ],
   "source": [
    "rule11[745:]"
   ]
  },
  {
   "cell_type": "code",
   "execution_count": 78,
   "metadata": {},
   "outputs": [
    {
     "data": {
      "text/plain": [
       "'(b((a(a(b(a(ba|bb)|b(ba|ab))|a((aa|bb)a|(aa)b))|b(a((aa|ba)(b|a))|b(a(bb|a(b|a))|b(aa))))|b(a(a(b(ba|bb)|a(aa|ba))|b((aa)b|(ab)a))|b(b(b(aa|ba)|a(ba|a(b|a)))|a((ab|bb)a))))b|((b(((ab)b|(ba|ab)a)a|((ba|(b|a)b)b|(ba|a(b|a))a)b)|a(b(b(ba|a(b|a))|a(aa))|a((b|a)(ab|bb))))a|(a(a(a(b(b|a)|aa)|b(ab|bb))|b((b(b|a)|aa)b|(ba|(b|a)b)a))|b(b((b|a)(bb|a(b|a)))|a(b(ba|ab)|a(ba|(b|a)b))))b)a)|a((b((b(a(ba|(b|a)b)|b(bb|a(b|a)))|a((aa)a|(aa|bb)b))a|((b(ab|bb)|a(bb|a(b|a)))a|(b(ba|bb)|a(ab))b)b)|a(b(a((ab|bb)b)|b(a(ba|(b|a)b)|b(aa)))|a(((ba|a(b|a))b|(ab)a)b|(b(ba|bb)|a(b(b|a)|aa))a)))a|(((b((aa)b|(aa|ba)a)|a((ab|bb)b))a|((b(ba|ab))b|((b|a)(ba|(b|a)b))a)b)b|(a(((ab)b|(ba|a(b|a))a)b|((aa|bb)a|(aa|ba)b)a)|b(((b(b|a)|aa)b|(ab)a)a|(b(aa)|a(ba|a(b|a)))b))a)b))'"
      ]
     },
     "execution_count": 78,
     "metadata": {},
     "output_type": "execute_result"
    }
   ],
   "source": [
    "rule8"
   ]
  },
  {
   "cell_type": "code",
   "execution_count": 104,
   "metadata": {},
   "outputs": [],
   "source": [
    "count = 0\n",
    "for string in strings:\n",
    "    if re.match(regex2, string):\n",
    "        count += 1"
   ]
  },
  {
   "cell_type": "code",
   "execution_count": 105,
   "metadata": {},
   "outputs": [
    {
     "data": {
      "text/plain": [
       "0"
      ]
     },
     "execution_count": 105,
     "metadata": {},
     "output_type": "execute_result"
    }
   ],
   "source": [
    "count"
   ]
  },
  {
   "cell_type": "code",
   "execution_count": 103,
   "metadata": {},
   "outputs": [],
   "source": [
    "regex2 = '^' + rule8 + '+' + rule8 + rule8 + rule8 + rule8 + rule8 + rule8 + rule31 + rule31 + rule31 + rule31 + rule31 + rule31 + '$'"
   ]
  },
  {
   "cell_type": "markdown",
   "metadata": {},
   "source": [
    "## Part 2"
   ]
  },
  {
   "cell_type": "code",
   "execution_count": 40,
   "metadata": {},
   "outputs": [
    {
     "data": {
      "text/plain": [
       "'42 31'"
      ]
     },
     "execution_count": 40,
     "metadata": {},
     "output_type": "execute_result"
    }
   ],
   "source": [
    "rule_dict['11']"
   ]
  },
  {
   "cell_type": "code",
   "execution_count": 41,
   "metadata": {},
   "outputs": [],
   "source": [
    "def find_section(chunk):\n",
    "    count = 0\n",
    "    for i in range(len(chunk)):\n",
    "        if chunk[i] == '(':\n",
    "            count += 1\n",
    "        elif chunk[i] == ')':\n",
    "            count -= 1\n",
    "        if count == 0:\n",
    "            print(i)"
   ]
  },
  {
   "cell_type": "code",
   "execution_count": 42,
   "metadata": {},
   "outputs": [
    {
     "name": "stdout",
     "output_type": "stream",
     "text": [
      "0\n",
      "747\n",
      "2242\n",
      "2243\n"
     ]
    }
   ],
   "source": [
    "find_section(regex)"
   ]
  },
  {
   "cell_type": "code",
   "execution_count": 45,
   "metadata": {},
   "outputs": [
    {
     "data": {
      "text/plain": [
       "'^((b((a(a(b(a(ba|bb)|b(ba|ab))|a((aa|bb)a|(aa)b))|b(a((aa|ba)(b|a))|b(a(bb|a(b|a))|b(aa))))|b(a(a(b(ba|bb)|a(aa|ba))|b((aa)b|(ab)a))|b(b(b(aa|ba)|a(ba|a(b|a)))|a((ab|bb)a))))b|((b(((ab)b|(ba|ab)a)a|((ba|(b|a)b)b|(ba|a(b|a))a)b)|a(b(b(ba|a(b|a))|a(aa))|a((b|a)(ab|bb))))a|(a(a(a(b(b|a)|aa)|b(ab|bb))|b((b(b|a)|aa)b|(ba|(b|a)b)a))|b(b((b|a)(bb|a(b|a)))|a(b(ba|ab)|a(ba|(b|a)b))))b)a)|a((b((b(a(ba|(b|a)b)|b(bb|a(b|a)))|a((aa)a|(aa|bb)b))a|((b(ab|bb)|a(bb|a(b|a)))a|(b(ba|bb)|a(ab))b)b)|a(b(a((ab|bb)b)|b(a(ba|(b|a)b)|b(aa)))|a(((ba|a(b|a))b|(ab)a)b|(b(ba|bb)|a(b(b|a)|aa))a)))a|(((b((aa)b|(aa|ba)a)|a((ab|bb)b))a|((b(ba|ab))b|((b|a)(ba|(b|a)b))a)b)b|(a(((ab)b|(ba|a(b|a))a)b|((aa|bb)a|(aa|ba)b)a)|b(((b(b|a)|aa)b|(ab)a)a|(b(aa)|a(ba|a(b|a)))b))a)b)))'"
      ]
     },
     "execution_count": 45,
     "metadata": {},
     "output_type": "execute_result"
    }
   ],
   "source": [
    "regex[:748]"
   ]
  },
  {
   "cell_type": "code",
   "execution_count": 47,
   "metadata": {},
   "outputs": [],
   "source": [
    "import copy"
   ]
  },
  {
   "cell_type": "code",
   "execution_count": 48,
   "metadata": {},
   "outputs": [],
   "source": [
    "regex2 = copy.deepcopy(regex)"
   ]
  },
  {
   "cell_type": "code",
   "execution_count": 50,
   "metadata": {},
   "outputs": [],
   "source": [
    "regex2 = regex[:748]+'+'+regex[748:]"
   ]
  },
  {
   "cell_type": "code",
   "execution_count": 54,
   "metadata": {},
   "outputs": [],
   "source": [
    "regex2 = regex2[:-1]+'+'+'$'"
   ]
  },
  {
   "cell_type": "code",
   "execution_count": 56,
   "metadata": {},
   "outputs": [
    {
     "data": {
      "text/plain": [
       "'^((b((a(a(b(a(ba|bb)|b(ba|ab))|a((aa|bb)a|(aa)b))|b(a((aa|ba)(b|a))|b(a(bb|a(b|a))|b(aa))))|b(a(a(b(ba|bb)|a(aa|ba))|b((aa)b|(ab)a))|b(b(b(aa|ba)|a(ba|a(b|a)))|a((ab|bb)a))))b|((b(((ab)b|(ba|ab)a)a|((ba|(b|a)b)b|(ba|a(b|a))a)b)|a(b(b(ba|a(b|a))|a(aa))|a((b|a)(ab|bb))))a|(a(a(a(b(b|a)|aa)|b(ab|bb))|b((b(b|a)|aa)b|(ba|(b|a)b)a))|b(b((b|a)(bb|a(b|a)))|a(b(ba|ab)|a(ba|(b|a)b))))b)a)|a((b((b(a(ba|(b|a)b)|b(bb|a(b|a)))|a((aa)a|(aa|bb)b))a|((b(ab|bb)|a(bb|a(b|a)))a|(b(ba|bb)|a(ab))b)b)|a(b(a((ab|bb)b)|b(a(ba|(b|a)b)|b(aa)))|a(((ba|a(b|a))b|(ab)a)b|(b(ba|bb)|a(b(b|a)|aa))a)))a|(((b((aa)b|(aa|ba)a)|a((ab|bb)b))a|((b(ba|ab))b|((b|a)(ba|(b|a)b))a)b)b|(a(((ab)b|(ba|a(b|a))a)b|((aa|bb)a|(aa|ba)b)a)|b(((b(b|a)|aa)b|(ab)a)a|(b(aa)|a(ba|a(b|a)))b))a)b)))+((b((a(a(b(a(ba|bb)|b(ba|ab))|a((aa|bb)a|(aa)b))|b(a((aa|ba)(b|a))|b(a(bb|a(b|a))|b(aa))))|b(a(a(b(ba|bb)|a(aa|ba))|b((aa)b|(ab)a))|b(b(b(aa|ba)|a(ba|a(b|a)))|a((ab|bb)a))))b|((b(((ab)b|(ba|ab)a)a|((ba|(b|a)b)b|(ba|a(b|a))a)b)|a(b(b(ba|a(b|a))|a(aa))|a((b|a)(ab|bb))))a|(a(a(a(b(b|a)|aa)|b(ab|bb))|b((b(b|a)|aa)b|(ba|(b|a)b)a))|b(b((b|a)(bb|a(b|a)))|a(b(ba|ab)|a(ba|(b|a)b))))b)a)|a((b((b(a(ba|(b|a)b)|b(bb|a(b|a)))|a((aa)a|(aa|bb)b))a|((b(ab|bb)|a(bb|a(b|a)))a|(b(ba|bb)|a(ab))b)b)|a(b(a((ab|bb)b)|b(a(ba|(b|a)b)|b(aa)))|a(((ba|a(b|a))b|(ab)a)b|(b(ba|bb)|a(b(b|a)|aa))a)))a|(((b((aa)b|(aa|ba)a)|a((ab|bb)b))a|((b(ba|ab))b|((b|a)(ba|(b|a)b))a)b)b|(a(((ab)b|(ba|a(b|a))a)b|((aa|bb)a|(aa|ba)b)a)|b(((b(b|a)|aa)b|(ab)a)a|(b(aa)|a(ba|a(b|a)))b))a)b))(b((((b((b(b|a)|aa)b|(aa|bb)a)|a(a((b|a)(b|a))|b(ab)))a|(((ab)b|(ba|ab)a)b|((bb)b|(ab)a)a)b)a|(a(((ab)b|(ba|ab)a)a|((aa)a|(ba)b)b)|b(a((bb)b|(aa|ba)a)|b((ab|bb)a)))b)a|(((((b(b|a)|aa)a|(aa|ba)b)b|((aa|ba)b|(bb)a)a)a|((b(ab)|a(ba|bb))b|((ab)b|(ab|aa)a)a)b)a|((a(b(bb)|a(ba|ab))|b((b|a)(bb|a(b|a))))a|(a((b|a)(bb|a(b|a)))|b(((b|a)(b|a))a|(ba|(b|a)b)b))b)b)b)|a((a(((b(ba|(b|a)b)|a(ab))b|(b(aa|bb)|a(ba|bb))a)a|(((b|a)(ba|a(b|a)))a|(b(ab|bb)|a(bb|a(b|a)))b)b)|b(b(a((ba)b|(aa|bb)a)|b((bb|a(b|a))a|(b(b|a)|aa)b))|a((b(aa|ba)|a(ab|bb))b|(b(ba|bb)|a(aa))a)))b|((a(b((ba|a(b|a))a|(bb|a(b|a))b)|a((aa|ba)b|(ba)a))|b(((aa)b|(ab)a)b|(a(ba|(b|a)b)|b(aa|bb))a))a|(a(((ba|(b|a)b)b|(ba|a(b|a))a)a|((ab|bb)b)b)|b(a((b(b|a)|aa)b|(ba)a)|b(a(bb|a(b|a))|b(aa))))b)a)))+$'"
      ]
     },
     "execution_count": 56,
     "metadata": {},
     "output_type": "execute_result"
    }
   ],
   "source": [
    "regex2"
   ]
  },
  {
   "cell_type": "code",
   "execution_count": null,
   "metadata": {},
   "outputs": [],
   "source": []
  },
  {
   "cell_type": "code",
   "execution_count": null,
   "metadata": {},
   "outputs": [],
   "source": []
  },
  {
   "cell_type": "code",
   "execution_count": 119,
   "metadata": {},
   "outputs": [],
   "source": [
    "def find_section(chunk):\n",
    "    count = 0\n",
    "    for i in range(len(chunk)):\n",
    "        if chunk[i] == '(':\n",
    "            count += 1\n",
    "        elif chunk[i] == ')':\n",
    "            count -= 1\n",
    "        if count == 0:\n",
    "            print(i)"
   ]
  },
  {
   "cell_type": "code",
   "execution_count": 123,
   "metadata": {},
   "outputs": [],
   "source": [
    "parts = [rule0[1:718], rule0[720:-1]]"
   ]
  },
  {
   "cell_type": "code",
   "execution_count": 125,
   "metadata": {},
   "outputs": [
    {
     "name": "stdout",
     "output_type": "stream",
     "text": [
      "0\n",
      "365\n",
      "366\n",
      "367\n",
      "714\n"
     ]
    }
   ],
   "source": [
    "find_section(parts[0][1:-1])"
   ]
  },
  {
   "cell_type": "code",
   "execution_count": 130,
   "metadata": {},
   "outputs": [
    {
     "data": {
      "text/plain": [
       "'b((a(a(b(a(ba|bb)|b(ba|ab))|a((aa|bb)a|aab))|b(a((aa|ba)(b|a))|b(a(bb|a(b|a))|baa)))|b(a(a(b(ba|bb)|a(aa|ba))|b(aab|aba))|b(b(b(aa|ba)|a(ba|a(b|a)))|a((ab|bb)a))))b|((b((abb|(ba|ab)a)a|((ba|(b|a)b)b|(ba|a(b|a))a)b)|a(b(b(ba|a(b|a))|aaa)|a((b|a)(ab|bb))))a|(a(a(a(b(b|a)|aa)|b(ab|bb))|b((b(b|a)|aa)b|(ba|(b|a)b)a))|b(b((b|a)(bb|a(b|a)))|a(b(ba|ab)|a(ba|(b|a)b))))b)a)'"
      ]
     },
     "execution_count": 130,
     "metadata": {},
     "output_type": "execute_result"
    }
   ],
   "source": [
    "parts[0][1:367]"
   ]
  },
  {
   "cell_type": "code",
   "execution_count": 131,
   "metadata": {},
   "outputs": [
    {
     "name": "stdout",
     "output_type": "stream",
     "text": [
      "21 71 69\n",
      "0 8 11\n",
      "54 a 92\n",
      "7 41 71\n",
      "30 b 68\n",
      "128 43 13\n",
      "92 \"a\"\n",
      "112 b 92\n",
      "76 a 13\n",
      "118 71 70\n",
      "72 71 43\n",
      "11 42 31\n",
      "34 b 13\n",
      "113 43 92\n",
      "8 42\n",
      "13 \"b\"\n",
      "35 71 99\n",
      "36 71 71\n",
      "92 a\n",
      "13 a\n"
     ]
    }
   ],
   "source": [
    "edit_keys = []\n",
    "for key in rule_dict.keys():\n",
    "    if not re.search(r\"\\|\", rule_dict[key]):\n",
    "        edit_keys.append(key)\n",
    "        print(key, rule_dict[key])"
   ]
  },
  {
   "cell_type": "code",
   "execution_count": 124,
   "metadata": {},
   "outputs": [
    {
     "data": {
      "text/plain": [
       "[]"
      ]
     },
     "execution_count": 124,
     "metadata": {},
     "output_type": "execute_result"
    }
   ],
   "source": [
    "edit_keys"
   ]
  },
  {
   "cell_type": "code",
   "execution_count": 53,
   "metadata": {},
   "outputs": [
    {
     "data": {
      "text/plain": [
       "['bbabbaaaabbaabbbaabbabaabbaabbaababaabab',\n",
       " 'abaababbbaaaaaabbabbabaabbabbaaaabaababbababbbab',\n",
       " 'baaabbbaabbabaabbbbbbbaa',\n",
       " 'bbaaaabababbbaaabbbabaab',\n",
       " 'ababbababbabbababaaababaabbbbaaaabbaabba',\n",
       " 'bbaabbabbbbbabbabaaabbbaabbabbab',\n",
       " 'bbabbaaaabbbabbaabbbabbabbabbbaa',\n",
       " 'abbbaaababbaaaaababaabaaaabababbabbaabab',\n",
       " 'abaabbabbbabaaaabaabaaba',\n",
       " 'aabaaabbaaaaabaabbabbbba',\n",
       " 'aabbbaaaaabbbbabbaabbbaabaabbbbbbbbababbbbbbaabbbbbaabaaabbbabbabbabaaaababaaaaabbbabbbabbaabbaa',\n",
       " 'abbaabaaabbaaabbaaaaaaabbbabababbbaabababbbaababaababbabbaabbaaaaaaaabbb',\n",
       " 'bbbbababbabbaabbbabaaabbaaaabbab',\n",
       " 'baaabababaabbbaabaabbaab',\n",
       " 'abbabbbbbbbbbbbaabaaabaaabbbbbababbabaaaabbbaaabbaaabaab',\n",
       " 'bbabababbaaabbbaaabaabbababbaabaaabbababbbbbbaaa',\n",
       " 'aaabbbaaaaaaababaabbaabb',\n",
       " 'ababbababaaabbabbbaaababbaaaaaaa',\n",
       " 'aaaaababbbabbaabbabaaabaabbababaaabbaaaa',\n",
       " 'aabaabbababababaabbabbab',\n",
       " 'babbbbbaaabbaaababbabbab',\n",
       " 'abaaaabbbabaaaabababaabb',\n",
       " 'babbbaaaabaaababaabababb',\n",
       " 'abaaaabbbaaaabaaaabaaaab',\n",
       " 'aabbaaabbaabbbaaabbbaaba',\n",
       " 'babbbaabababbbbbaabbbabbaaababbbbaabababaabaabaaabaaaaab',\n",
       " 'ababbabbbaaabaaaaababbabababbbaababaaaabababababbbbabababaaabaaaaabbbbaa',\n",
       " 'babaaabbbbaaabbabbbababa',\n",
       " 'bbbaababbbababaabbabbabb',\n",
       " 'babbabbbaaaabaaabaabaaaa',\n",
       " 'abaaaaaaaabbbabbbabbaabaaaaabbbb',\n",
       " 'bbaabaaaabaabaaaaabaaaabaabbbbbbbaaaabaaabbbaabababbbbbabaabaabbbbbababaabaababa',\n",
       " 'bbabaabbbababababbabbaabbbbababbaabbbbba',\n",
       " 'aaaabaabbaababbabbabbbaa',\n",
       " 'bbbbaabbbabaaaaaabbaaaba',\n",
       " 'aaaabbaaaabaabbbabbabbaabbbabaaa',\n",
       " 'abbbabaabbaababaaababaabbabbabab',\n",
       " 'bbbabbaabbbabbbabbababbabaaaababaababaaabbaabbaa',\n",
       " 'baabbbababbabbaaabaaababaabbbbba',\n",
       " 'bbbaabbabaabbbaabbaabbab',\n",
       " 'aaabbabbbbaabbabaabababa',\n",
       " 'aaaabaaaaabbbaaaabbaabbbabbabaaabbbabbbb',\n",
       " 'abbbabbbbbababbaababbaab',\n",
       " 'aababbbbbbabbbbbbaabbabaaabbbababbbbbaba',\n",
       " 'aabaabbbbaaababaabababaa',\n",
       " 'baaaaabaabbabbaaabbbbaaa',\n",
       " 'aaabbbabbbabbaaaabbbabab',\n",
       " 'bbababaabbaaabbbaaaaabaababaabaabaaabaab',\n",
       " 'abaabaababaababbbabbaababbaabbbbaabaabaa',\n",
       " 'abaaaabbbbabababaabbaaaa',\n",
       " 'babaabaaaaaabbaabbbbabbbabbabbbaaaabbabaaaabbbbbbabababaababbbbbbaaaaaab',\n",
       " 'abaabbababababbbbbaaabbaaabaaaaa',\n",
       " 'abbbaaabbbabaabbbababbaaaaaaaaba',\n",
       " 'abbabaabbbabababbbbbaabaaabbaabbaabaaabbaaabbbbaaaaabbabaaaaabaa',\n",
       " 'babbaaabbbbbbbbaababbaab',\n",
       " 'ababbabaababbaaabbabaaba',\n",
       " 'abababababababbbabaabbaa',\n",
       " 'abaabababbbbbbbaabbbbaaa',\n",
       " 'bbbbababbbaabbbbbababbab',\n",
       " 'bbaabbabababababbbaaaaba',\n",
       " 'aabaabbabbabbbaaabaaababbaaaaabaaabbbabbbaaabbabbaabbaba',\n",
       " 'baaabbaaaaababbabbbbabababaababaabbaaabbbbbbaaaabbababbb',\n",
       " 'baababbbbbbaaaabbbbbbbaaaaaababaabbaaabaaaabaabababaaaaa',\n",
       " 'bbabababaaabababaabbaabaabaaaabbababbbbaabaaaaab',\n",
       " 'abbabbbababaababaaaaabbbaabaaabb',\n",
       " 'babababbabbbbaabbbaaababaabbbaab',\n",
       " 'baabbbaaaaaabaaabbbaabbaaaabbabbaaaabbbbbaabbaaabbaaaabbbabaababbabbbbabaababbab',\n",
       " 'bbaaabaaaaabbbaababbaaabbabaaabbabbabbba',\n",
       " 'abaaababbabbabaaabababbbababaaaaabbaaaaa',\n",
       " 'abaababaaabbaaababaabbabaabbbbbb',\n",
       " 'abaababbbbbababbbbbaabbaaabbbaaaaabbbabb',\n",
       " 'aaabbbaabbaabababbabbbbb',\n",
       " 'abaaababbabbbaaababbbbbb',\n",
       " 'baaaabaaabbbabaabbaaabbb',\n",
       " 'babbaabbabaaaaaabbbbaabbaaaaaaabbbbbabbabbbbabaa',\n",
       " 'babaabbbaaaaaabbbaaaabbaaaabaaaababbaabbabbaababbbbaaabb',\n",
       " 'babaaabbabbbbababaaaaabababbabbabaaaaaababaabbbb',\n",
       " 'abaaaabababbaabbaabbabaaaaaabaabbbabbbbbabbbaaabbaaaabba',\n",
       " 'baabbbbaabbbbababbbbabaa',\n",
       " 'bbaaaaabbbbbbbbababaabbabbbbaaaaabbaaaab',\n",
       " 'abbbabbbbabababbaaabababaabababbbaaaaabaaaabbaaaabbabaaabbaabbba',\n",
       " 'baaaaabaaaababbbaaaaababbaaabaababaaabba',\n",
       " 'aaaabaabbbaabbababbababbabaaabbbbbaabbabaaabaaab',\n",
       " 'abbabaababaaaababbbbbbaabbaaaaaaaaaaaabb',\n",
       " 'aaaabbaababbabbabbaaabbb',\n",
       " 'baabababbabaabbaaabbabbbbbbbababbaababbaabbaabbbabaaabba',\n",
       " 'baaaabaabaabbabaabbbbbbbaaaababbaaabbaab',\n",
       " 'aabbbbbbabbbbaaaaabbbbbbbbbbabbb',\n",
       " 'baaabbaabbabababaaaabaabbbbaabbabaaaaaaaaabbbbababbbbbabaabbaaaaabaaabba',\n",
       " 'abaaababbabbbaaabaaaabaabbaaaabbaabaabaa',\n",
       " 'babbbabababaaaaaababbbab',\n",
       " 'baababbbbbaaabaabaabbbaaabbaabbaabbbabab',\n",
       " 'abaabbababbbbbbabbababaabbbbbbbaaaabaabbbaaaabbb',\n",
       " 'aaaaaaababaabbaaaabaaaaabbbabbbb',\n",
       " 'abbbabaabaabbbaabaabbaab',\n",
       " 'abbabbaaabbbbbbaaaabbaabbabbbaaababaabba',\n",
       " 'baaabababababaabaabbbabbabaabbabbabaaabbbabbabbbbbababbb',\n",
       " 'aaaaaaabaaababbababaaaba',\n",
       " 'bbaababababaaaabbbbbaaaa',\n",
       " 'bbbbaabbbbbbaabbbbbabaab',\n",
       " 'abaaaabaabbabaaaababababbbabbbbbbabbabab',\n",
       " 'babbaabbabbabbaaabbabbbbaabbbabbaabaaaaaaababbbb',\n",
       " 'babaaaabaaaabaaababbabaabbbbbbaababbaaaa',\n",
       " 'abbaabaaaaabbaaabbaaabbb',\n",
       " 'bbbabbabaaababbaabaabbbaaaaaabaa',\n",
       " 'bbaaabbababaabbbaaabababbabbaababbbbaabaabaabbaaaabaaabbbabaabbabaaabbababbaababbaabbaaa',\n",
       " 'bbbaaabababbabababaaaabaaabbabbbbaaabbabaaaabbbaabbababbbaaaabababaabaaabbbababb',\n",
       " 'babbbaaabbbbabababbbbabb',\n",
       " 'baaaaabbaabbaabaabbaabba',\n",
       " 'babbbaabbababaabaaaabaaaaaaabababbbaabbbababbabbbbabaabababbbabbaababaaa',\n",
       " 'baabbbbaaabaababababbaaa',\n",
       " 'abbbabbbaaabbaaababbabab',\n",
       " 'bbabbaabbbaabaabbbbaaabaabaaababbbabbaabbbabaaaaabbabaaabbababbbaababbaa',\n",
       " 'babaaabbbabaaabbbbabbaabbbbabaab',\n",
       " 'abbbbbaabaaaaabababaabbabaabbbaaabbbaaabbbbabababbabbbbbbaababbbaababbab',\n",
       " 'aaababbbbbaabbbaabbbabbaaaaaaaabbbaaaaaabbaaabbbbbbbbabb',\n",
       " 'ababbabaababbabbbaaabbbababbabbabbbbaaabbaabbaab',\n",
       " 'ababbabaaabaababbbabbabaaabbaaaabaaaabab',\n",
       " 'aabbaaaabaabbbbbaaabaaba',\n",
       " 'babbbbbaaaababbbbbaaaabbbbbbbababaabbbab',\n",
       " 'abbbbbbabababaabbabbbaabbbaabbaa',\n",
       " 'bbaaabaabbbaababbaaabbbb',\n",
       " 'aabbabaaaaabbbaaabababaa',\n",
       " 'aabbaaababbbbaabbaabaaab',\n",
       " 'bbbbbbabaaaabbbabbbbababaabbbaab',\n",
       " 'babbaabbbbbbbbbabbaaaaababbabbabaaaaabaa',\n",
       " 'bbbaaabaaaaabaabbaaaaaaabaabaaba',\n",
       " 'baabbabbbbaabbababbaaabbaaaababa',\n",
       " 'ababaaaaababbaababbbbbaabbbaaaaaaabaaaababbaaaab',\n",
       " 'abbaaabbbbaabbababbbabbaaabaabaaaaaababb',\n",
       " 'ababbaaabbaaaabbabbaaaaabbaabaabbbaaaaba',\n",
       " 'ababbbbbabaaaabaabaaaaab',\n",
       " 'babababbababbbaabbabbaab',\n",
       " 'baaaabaababbbbbaabbbabbaaaabababaaabbaaaaaaaabbbbabbababbbbaabbbabbaaaab',\n",
       " 'bbbbababaaaaaaabbaaabbabaabbabbaaaabbbbaabbbaaba',\n",
       " 'baaaaabaabaaababaaaaabbaaaabbaaaabbbaabb',\n",
       " 'bbbbabbabbabbbaabaabbbaaabaabaabbabbbabb',\n",
       " 'bbaaabaaaabaabbaaaaababb',\n",
       " 'abbababaaababaabbabbbbaa',\n",
       " 'aabaabbaaaaaababbabbaaabaaabaaba',\n",
       " 'abbbbaabbbbabbabaaaaaaaaaabbabbabbaabaaaaabbbbbaaaaaaabb',\n",
       " 'bbaaabbababbaaabbbaaabaaabbaaaaa',\n",
       " 'aabaaabbabbbaababababbaa',\n",
       " 'bbbbaababbabaaaaababbbba',\n",
       " 'abbbbaabbaaaaabbabbabaabbbbbaabbbbaabbabaabaaaaa',\n",
       " 'aaaabbbabaababbaabbbbbab',\n",
       " 'babababbaabbaaaaaabbbbaa',\n",
       " 'babbaaabaaabbabbabaabaababbaaaaabaabbbbb',\n",
       " 'bbaabbbaabaababbbbbaaabb',\n",
       " 'baaababaaabbaabaaabbaabb',\n",
       " 'baaaaabaabbbabbabbbaabbb',\n",
       " 'abaababbbbaabbbbabbbabaabbbaabbaababbbba',\n",
       " 'babababbabaaaaaaaababbbaabbaabbbaabababbaaaabbab',\n",
       " 'aababaabbabbaaabaaaababababaabbb',\n",
       " 'aaaaabbaaabbaaabbbaaaababbbbabbbabbabbbbaabababababaaababbaaabab',\n",
       " 'aaabbbabbbbbaaaaaabababb',\n",
       " 'bbbbbbaaaaabbabbabbbbbabbaaabaababbbaaabbbbbbabaabbbaaaa',\n",
       " 'ababbbbbbaaaaabaaaaabbaabaabbbbaababababbbbabaab',\n",
       " 'bbaaabaaababbabababaabbaaabbaaabaaabaaab',\n",
       " 'baaaabaaababababaababbaaaaaaabababaabbbabbaabaabbbbabbabbaaabbab',\n",
       " 'babbabbabaabababaaaaaabb',\n",
       " 'aaaabababbabbaaabbbbaabababaaaabbbaabababbabbbbb',\n",
       " 'baabbbabbbaaabaaabbbababaabbababbabaaabbbabaabaabaaababaabbabaaaaabbbaba',\n",
       " 'baaaaabbbabbbabaaaaaabaa',\n",
       " 'bbaabababbabbaaabbbaaababaaaabab',\n",
       " 'babbaaabbaaaaaabaabababa',\n",
       " 'bbabbabbbbbabababaaaabba',\n",
       " 'bbabbbaaababababaabaabbbaaababbbbabbbbaa',\n",
       " 'baaabbaaabbaaabbbaaaabba',\n",
       " 'abbbbbaababbbbbaabaaabba',\n",
       " 'aaabbbabbaabbbbabbaaaaaa',\n",
       " 'aaaababaabbbabaaabbabababaabaaabaaabbaba',\n",
       " 'bbbaabbaabaabababaaabbaaababbabb',\n",
       " 'bbbabbabbbaaaaabbaaaaaabbbababba',\n",
       " 'baabbaababbaaabbabbaaaabaabbaabbbaabbaaaabbbaaaa',\n",
       " 'abbabbbbaabaaaabaaaabaaabaaaababababbaaababbbaaaabbabbbbaabbbaaaaaaabaaaabbababbbaaabababbabbbba',\n",
       " 'bbaaabbabbaaabaababaabab',\n",
       " 'bbababaabababaabaaaaabaa',\n",
       " 'bbbaabaaabbaabaaaaaaaabb',\n",
       " 'abbabbaabaabbbaabbbaabbb',\n",
       " 'aabbbabbbabbbaabaabbaaabaaaababbaabbbbbb',\n",
       " 'abbbaaaaabaababbabbbbabb',\n",
       " 'bbbaaabaabbabaabaaabababbbbabbbaaaabbabbaababaabaaabaabb',\n",
       " 'bbbaabbabaaabbabbbaaaaaa',\n",
       " 'baabbbaaababaaabbbabbabaabaabababbbbaaaa',\n",
       " 'bbbbbbababbbabaaabababbbaaaababbabbbaaabaababbbbaabbbababbaaabbb',\n",
       " 'bbbabbabbaababbbbbabbbaaabbababbbabaaaba',\n",
       " 'aaababbabbbbababababbbba',\n",
       " 'bbbbbbabababbbaabbbbaabababaaaababbbaaaabaabbababbbbbbab',\n",
       " 'abaaababbaaababababbbabb',\n",
       " 'abbabbbaabbbbabbbaabbbababaaabbaababbbababaabbaabaaaaaab',\n",
       " 'abbabbbbaaaabaaaaabbbaba',\n",
       " 'bbbaaababbabaabbabaababbaabbaabb',\n",
       " 'aaababababbabbaabaabbaaa',\n",
       " 'babbabaaabbbbababababbaabbabbbbb',\n",
       " 'bbbabbaabbbabbbabaaabbaaaabbabbabbbabaaa',\n",
       " 'babbabaabaaaaaabbbbbbbbababaabaa',\n",
       " 'bbaabbbabaabbbbaababbbbbbbaababaabbaaaabaaabaaab',\n",
       " 'aababbbbbabbababbbababaabaaabbaa',\n",
       " 'aabbabbbbaabbbababaaabbb',\n",
       " 'aaababbbaabaababbbabbabaababaaba',\n",
       " 'abaaaaaaaaaababababbaaabbaaaaaababaaabababbababbbbabbaababbbbabbbbabbbab',\n",
       " 'abaaaabbbbbbbaabbbabbbaaabbbaabb',\n",
       " 'bbabaabbaaaabbbaabbbabbbabaaaaaabbaabbbbaabbaabbbbbaabbbbbabbbab',\n",
       " 'aabbabaabaababbababbbbbaabbaaabbbbbababbbbbababaabbbbabb',\n",
       " 'bbabaaaabbaaabbaabbbabab',\n",
       " 'babaaaabbaababbbbbaabbbabbbbbbbaaaaabababbabbaab',\n",
       " 'abaabbbaabaabababaababbababbbbaa',\n",
       " 'ababbbbbbbaababaaabbabbbababbbbaabaabbbb',\n",
       " 'aababbbaaabbaaabaabaaaaa',\n",
       " 'babbaaaaabbbbababbbaabaabaabbaaa',\n",
       " 'aabbbaaaabbaabbbbaababbababababaabababaabbbbaaaa',\n",
       " 'abaababaababbbaaaababaabbabababbababababaababaaabababbbb',\n",
       " 'aaaabbbaabaabaaaababbaabbbbbbbbb',\n",
       " 'baaabbabaabbabbbbaababbabaaaaaababbabbbb',\n",
       " 'babbaaaababaaaabaabaabbabbbaaabbaabbaabb',\n",
       " 'abbbaabbbaabbbbbbaaabaabaabbababbbbababa',\n",
       " 'aabbaaababbaabaabbabbaaababbaaabbabaaaaaaabbbbbbbabbbbbbabbabbba',\n",
       " 'abbbaababbababababbabbbabbababaaabbaaaaaaaabbbbb',\n",
       " 'aababbbaaaaabaababbaabba',\n",
       " 'abbbbababbbbbbbaabaabbabaaaabababaaaabbbaabaaabb',\n",
       " 'bbbaabbabbaaaaabbbabbbba',\n",
       " 'abbbaaaaaabbabbbaaabaaba',\n",
       " 'abababbbaabbaabababaabbabaaaabbb',\n",
       " 'abbaaaabbaababbbbaaaaababbabbababbbbababbbabaaababaaaabbabbbaabbabbbbababbaaabaaaabbaabbbbaaabaa',\n",
       " 'abaaaabaabababababbaaaaa',\n",
       " 'aabbaaaaaabaaabaaabaaaaa',\n",
       " 'babbbaaaaaaabbbaabaaaabbbababababaaababbbbbbbaba',\n",
       " 'abaaaabbaaaaabaabbabbbabbaabbbbabbabbabaaabaabbababbabbabbaaabbaabbbbbaabbbbaaab',\n",
       " 'bbaabababaabababababbabb',\n",
       " 'abbbbaabbababababbbbbbbb',\n",
       " 'aabbaabaaababaababababaabbbaabbabbbababaabaaabbbabaabaaaaabbbbaabaaabbaaabababbb',\n",
       " 'ababbbbbbbabbababbbbaababbbabbaaaabbabbaaababbaabbabaaba',\n",
       " 'abbaaaabababaabbbabbbbbbbbbaababbbbaabbbabbbaabababaaaabbaababaaabbabaab',\n",
       " 'bbbaaaaabbaaabababababaa',\n",
       " 'babaaabbabbbbbaabbbabbbababaabab',\n",
       " 'bbbbbbabbbbbbbbababbbababaaaaababbbbbaabaaaaabbbbaabaaaaaaaaaabb',\n",
       " 'baabbbbaaabbabbbbbabbbaaaabaaabb',\n",
       " 'aabaababbabbbabaaaabbabbbaabaaaa',\n",
       " 'aabbaababbbaaabaaaabbaab',\n",
       " 'babaaaaaaaabbbabbabbaaaaaaaaabbabbbaababbaaabbab',\n",
       " 'bbabbbbababbbbaaabbbbbabbbabaaaabbbaaababababababaabbbbbbbbaabbaabbbaaaa',\n",
       " 'bbababbabbbaabababbbbaabbbababbb',\n",
       " 'ababbbbbabbbabbbabaabbbb',\n",
       " 'bababaabbbababaabbaaabbaaabbabbabbaaaabb',\n",
       " 'abbaaaabbbabaaaaabbbaabbaabbaabbabaaaabaaababbbabaaaaababaabaabbaabbabbbabbbabba',\n",
       " 'baababbabbbbbaabbbbaaabb',\n",
       " 'bbbabbaaabbabaabaababaaa',\n",
       " 'baaaaabababbabaaaaabbbabbaababbabbbaabaaabbbbaabbbbabaab',\n",
       " 'aabbbbbabaaabaabaaabaaaa',\n",
       " 'abbbabbbaaaaaaababbbaaba',\n",
       " 'abbbabbaabbbbbbabbabbabb',\n",
       " 'bbbaaababbaabababababaababaaaabbabbabbbabbabbabbababbaaa',\n",
       " 'aaaaaaabaabbabaaaabaabaa',\n",
       " 'babbaabababbaaaaabbaabbbbabbabaaabbbbaabbbbbbaba',\n",
       " 'bbabbaaabaabbbababbaaabbbaaaaabaababbababbabbaaababaabbbabbbbbabaababbbb',\n",
       " 'babbbaabaabbabaaaabaabbaabaabbaa',\n",
       " 'bbababbabababaabaabaabbbaabbabaaaababbaaabbabbba',\n",
       " 'aaaaabbababaaaaabaaaaabaabaabaababaaaabbbaaabaaa',\n",
       " 'babaabaabbbbabaabbabaaabaabaaaab',\n",
       " 'bbbbbbabbaaabbbabbbababa',\n",
       " 'bbabbaaababbabaaaaabbbba',\n",
       " 'bbaaabaaaaaabaabaaabaaab',\n",
       " 'bbaabbabbaababaaabaabaabbbbbbaabbabbbabb',\n",
       " 'ababaaabbaabbbbabbbbababababbbbbbababaabbababbaaabbaaaba',\n",
       " 'bbaabbbaaabaaabbbbaaaabb',\n",
       " 'babbabbbabbbbbbababbbabbabaaabbbbbbaababbbbaabbbaabbaabaaaaaaaaababaaaaa',\n",
       " 'babaaabbaabbaabaababaaababbabbaaabbababaabbabbabbbbabaabbbbbbaaa',\n",
       " 'bbbbaaabaababbbaabbaababbbbbabaa',\n",
       " 'baaabbbaaaaabbbabbbbbaba',\n",
       " 'aababaababbbbabaaabaabbbbbbaababbabaaaabbbbbbaabaaababaa',\n",
       " 'bbbbabbaabbbaaaabbabababbbabaabbbbbbababbbbaaabbbbbaaabb',\n",
       " 'bbbaaaaabbabbabbbbabbabaaabbbaab',\n",
       " 'baabbbbabbbbbbbaabbabababbbababbababbabb',\n",
       " 'aabbabbbbbbabbabbaaaabbaaabbbbbbbabbababbbbbbabb',\n",
       " 'abbbabaaabaaaabaaaaabbab',\n",
       " 'aabaabbaabaababbaaaaaaababaabaababbaaaba',\n",
       " 'bbabbabababbabbbbabaabbb',\n",
       " 'bbaaaaabaabbbaaababbabbababbbbbbbbbabaaa',\n",
       " 'aabbaaababbbbabaaabbbbbb',\n",
       " 'aabbaabaaaaabbbbbaaabaaaabbbbbab',\n",
       " 'aaaabbaaaabbaababaaaaabbbaababbbbbbbbbbb',\n",
       " 'abaaababbababababaababbababaabbb',\n",
       " 'aaababbabbbaaabaababbaaa',\n",
       " 'abbbabbaabbbabaababbbabababbabbababbaabbaabaaababbbaaaabbabaabaabbaabaababbabbba',\n",
       " 'babbbbababbaaabaabbbbabbbbabaaba',\n",
       " 'aaaaabaaababaaaabababbbaababaaaaababbbbbbabbbabbbabbbbbb',\n",
       " 'abbaabbbbbbbaabbaaaabbbaabababaa',\n",
       " 'babbbbbaabbabababbaabbbbaabbaabb',\n",
       " 'bbbabbbabbbbaabbabbbaaab',\n",
       " 'babbbaaabbbabaabbbbaaabb',\n",
       " 'bbbbbbbaaaaaaaababbabbba',\n",
       " 'bbbbbbabaaabababbabbbbbabbaabbaabbbabaaa',\n",
       " 'bbaabbababbaaabbaabaababbaaaababaaabaabb',\n",
       " 'aaabbbaababbaabbabaaababbbbbbaabbababaaabbbaabbb',\n",
       " 'bbbabbbabbbaaaaabbaabbbbbabbbaabbabaaaba',\n",
       " 'abababbbaababbbabaababababbbaabb',\n",
       " 'bbbbbaabbabbaababbbababa',\n",
       " 'aaaabbbabbbaaaaaaabaaaba',\n",
       " 'aaaaaaaabbaabbabaaaabbbaababbaab',\n",
       " 'aaababbabbbbaabaabaabbbb',\n",
       " 'abaaabbbbabbbaabababbabababaaaababaaaaababbbababbbbbaabababaababaababbba',\n",
       " 'baaaabbbbbaabaaababbabab',\n",
       " 'aabaabbbbbaabbbabaaabbbbbababbabbaabbabaabaaabababbabaaabbabbaaa',\n",
       " 'baaabaabbabbbbaabbabaaabaabbbbbb',\n",
       " 'ababbbbbbaabbabbabaababaabbbbbab',\n",
       " 'baababbbbbbaaaaabbabbabb',\n",
       " 'babababbaaabbbabaaabababbbbababa',\n",
       " 'baabbaaaabbabaabbabaabaaaaabbabaababaabbabbababaababaaaabbbabbbb',\n",
       " 'aabaababaaabaabbbbbabbbbbabaabbb',\n",
       " 'aaaaabbabbababaaababbabaaabaaabbbabbbbbb',\n",
       " 'baabbababbbabbbaaabaaabaaaaaabbabaabaabaabaaaaaaabaabaaabbbbabbababaaaaa',\n",
       " 'babbabbabbbaabaaaaaaaaabaabbaaaa',\n",
       " 'baababaababbaaababaaabababaababbbbbababa',\n",
       " 'abbaabaaaabbbaaabbaaaaabbbaaaaabaabbaababbbababb',\n",
       " 'baabbbabaaaabbbaabbbbbaa',\n",
       " 'aaabbbabbaabbbbaababbaaa',\n",
       " 'abbabbbaabbbbabaaabaabbbbaabaabbaabababbbbaabbba',\n",
       " 'baabbaaabbbabbabbaaabbbbaaaaaabaaaaabbbabaaaaabbaabbabbaaabbbbbaaaabaaaa',\n",
       " 'baabbbaabbbaaaababbabbbbaaababbabbbbabbbaaaaaabbaaababbaaaaababa',\n",
       " 'baaabbabaabbabaabbbbbabb',\n",
       " 'ababbbbbabbbabaabbaaaabb',\n",
       " 'aaabbaababaababbabbbababbaababbababbbaaabaabbaaabbabbabbbabababa',\n",
       " 'aaaaaaabaabbabaaababbabaababaabb',\n",
       " 'baababaabbabbaaababbbaabaabbbabbaaaaabababaababaababaaaa',\n",
       " 'abaabaabaabbbabbaaaaaabb',\n",
       " 'bbaabbbbbabaaaabbbbbbbabaabbbaba',\n",
       " 'baabbbaabbaaaaabbbbabbbbbbaaabbbaabbbbaaaababaaabaababaa',\n",
       " 'bababababbaaabbabbbbbbbaabbbaaaaababbaaa',\n",
       " 'abbbbbaabbababbaabababab',\n",
       " 'bbaaababbaababaabbbabbabbbbabbababbaaabbabaaabba',\n",
       " 'abbbabbabbaaabbababaaaba',\n",
       " 'abaabbabababbbbbabbabbaabbbabbbb',\n",
       " 'aaaabaaaabaabbabbbabbabb',\n",
       " 'bbbbbbababbaabaaaabbaaaa',\n",
       " 'babbaaababbbaaabaabbbbbbaabbabaaabbbababbbabbababbbaabaaaaabbaabbbbbbbaa',\n",
       " 'babaaaabbabaabbaaaaabaaaababbabb',\n",
       " 'abbbbaabaaabbbabbbaabbbbbbaababaaaaababbaabbaabb',\n",
       " 'bbbabaaabbbbbbabaabaabbabbbbbabababababaabbabbbaabaaabaaaaababbbabbababaabbbbbaa',\n",
       " 'baaaabaababbbaababbbbbaaaaaababaaababbbb',\n",
       " 'bababbaabaaaaaaabbbbbbbbbbbbbbbbabbbbaaa',\n",
       " 'bbbbaaabaabbabbbbabbaabbaaabbbabbbbaaaaaabbaaaab',\n",
       " 'abbabababaababababaaaaaabbbbbbaaabbbbbbaaaaabbbbabbaaaabaaaabbabababaaba',\n",
       " 'baabbbaaabaabbaaabbabbababbaaaaaabababba',\n",
       " 'abaaabaabbabbbaabbbababbaaabaaba',\n",
       " 'baabbbbabaababababbaaaab',\n",
       " 'abbabababbaaabbabbbbaabbaabababa',\n",
       " 'abbabbbbabbbabaaabbbbbbb',\n",
       " 'aaabbbbaabbaabaaababbbbabbbbaabbaababbbaababbaaaababbbbbbbbbaaab',\n",
       " 'abaabababbbaababbabaaaabababababbaaababbaabababb',\n",
       " 'babbabbaabbbbababababbaaaabbbbaabbabbbbaaabbbbbababbbaaabbbbbaaabbabbabb',\n",
       " 'abbaaabbababbabaabaaaaaabbaabbbaabaabbabaababbaabaaaabbabbbababaaababbbb',\n",
       " 'aababaabaaabababbbabaaab',\n",
       " 'aabbabbabbbaababbbaabaaa',\n",
       " 'abbbabaaaababbbabaabababbabbbaaabababaaa',\n",
       " 'abbbbaabbbbaabbaaaaaabbb',\n",
       " 'aabaababbbabababbaabbbbaabbbaaaabaaabababababbabaaabaaaaabbbaababaaabbbb',\n",
       " 'aaaabbaabbababaababababaaababbbb',\n",
       " 'bbaaabaaabbaaabbbbbbbaaa',\n",
       " 'bbaabbbbbbbbaaabbabbbbbaabbbaaba',\n",
       " 'abbabaabaaabbaaaaaabbbaa',\n",
       " 'baababaabbbbbaabbaabbaba',\n",
       " 'aabaabaaabaaaabaabbbabbabbbabbbaaabaaaabaaababbb',\n",
       " 'babbbaabaaabbaaaaabaabbababababbaaaaabbbabababaabbabaaab',\n",
       " 'abababaabbaaabbbaaabbaabaabababa',\n",
       " 'abaababbbbbabbbabbabbbba',\n",
       " 'bbbbbbabbbbabbabaaabbbaaababaaaa',\n",
       " 'aabbbabbaaabbbababbabbba',\n",
       " 'baababaabaaaaababbaaabaaabbabbbbbabaabab',\n",
       " 'aaababbabaababbbbbbbababbbbbaaabbaaabbaababbabab',\n",
       " 'aaabbaaaabaababbaaaabaaababbaababaaabaaa',\n",
       " 'baabbbaababbabbabbabbbab',\n",
       " 'abbbabbaabaabababaaabbbb',\n",
       " 'aaabbaaaabaaaabaaabbbaaaaaabbbaabbbaababaaaababbbaabaabbaabbbbbb',\n",
       " 'babbabaaabbabbbbbbbbbabbaabbbbbabbaaabbabbaaaabaabbbbbabbaaaabbbbbaabbbbaabbabbaabbabaaa',\n",
       " 'aaabbaaababaabbaaaaaaabb',\n",
       " 'abaaaabbabbabaabaaaabbab',\n",
       " 'bbbbabababbbbabaabaaaaaaaaaabaaaababbabbabbaabbabbbabbbbabbababb',\n",
       " 'abbabaaaaababbbababbaaaaaaabbbaaaaaaabbb',\n",
       " 'bbbaabaababaaabbbbbbaaabababaabb',\n",
       " 'abbbabbabbbabbaaaaababbabaababbaaabaaaab',\n",
       " 'bbbabbaababaabbaaababbaa',\n",
       " 'bbbbbbbababbbbbababbaabaaabaaabbaababbaaabbbbbabbabbbabbaababbaa',\n",
       " 'baabbbaaaababaabaabbbaab',\n",
       " 'bbaaabaaaaaabbaaabaaabaaaabbbbbabbbabbbb',\n",
       " 'abbaabaabababaabbabbabaaabbababa',\n",
       " 'babbbaababbaaabbbaaababb',\n",
       " 'bbbbaababaaaabaaaaabbbbb',\n",
       " 'aabbbaaabbababaaaaaaaaabbaaaaaaa',\n",
       " 'abaababaaaababbabbbabbaabaabbabbababaaabaababaabababaaaa',\n",
       " 'ababbbaaaaabbbaaabbbabab',\n",
       " 'bbbabbaabaaabbbabaabaaaa',\n",
       " 'bbbbababbaaaabbbbababbbbbaabbbaabaaaaabb',\n",
       " 'abaaababbaababbababababbababababbbbbabbb',\n",
       " 'babaaaaaaabaaaaaabaabaaa',\n",
       " 'babbaabbbbbbababbabbbbbb',\n",
       " 'bbbaabaababababaaaaaaabb']"
      ]
     },
     "execution_count": 53,
     "metadata": {},
     "output_type": "execute_result"
    }
   ],
   "source": [
    "strings"
   ]
  },
  {
   "cell_type": "code",
   "execution_count": null,
   "metadata": {},
   "outputs": [],
   "source": []
  }
 ],
 "metadata": {
  "kernelspec": {
   "display_name": "Python 3",
   "language": "python",
   "name": "python3"
  },
  "language_info": {
   "codemirror_mode": {
    "name": "ipython",
    "version": 3
   },
   "file_extension": ".py",
   "mimetype": "text/x-python",
   "name": "python",
   "nbconvert_exporter": "python",
   "pygments_lexer": "ipython3",
   "version": "3.7.4"
  }
 },
 "nbformat": 4,
 "nbformat_minor": 4
}
