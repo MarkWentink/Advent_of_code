{
 "cells": [
  {
   "cell_type": "markdown",
   "metadata": {},
   "source": [
    "# Advent of Code 2020 - Day 12"
   ]
  },
  {
   "cell_type": "markdown",
   "metadata": {},
   "source": [
    "### Challenge"
   ]
  },
  {
   "cell_type": "markdown",
   "metadata": {},
   "source": [
    "--- Day 12: Rain Risk ---\n",
    "Your ferry made decent progress toward the island, but the storm came in faster than anyone expected. The ferry needs to take evasive actions!\n",
    "\n",
    "Unfortunately, the ship's navigation computer seems to be malfunctioning; rather than giving a route directly to safety, it produced extremely circuitous instructions. When the captain uses the PA system to ask if anyone can help, you quickly volunteer.\n",
    "\n",
    "The navigation instructions (your puzzle input) consists of a sequence of single-character actions paired with integer input values. After staring at them for a few minutes, you work out what they probably mean:\n",
    "\n",
    "Action N means to move north by the given value.\n",
    "Action S means to move south by the given value.\n",
    "Action E means to move east by the given value.\n",
    "Action W means to move west by the given value.\n",
    "Action L means to turn left the given number of degrees.\n",
    "Action R means to turn right the given number of degrees.\n",
    "Action F means to move forward by the given value in the direction the ship is currently facing.\n",
    "The ship starts by facing east. Only the L and R actions change the direction the ship is facing. (That is, if the ship is facing east and the next instruction is N10, the ship would move north 10 units, but would still move east if the following action were F.)\n",
    "\n",
    "For example:\n",
    "\n",
    "F10\n",
    "N3\n",
    "F7\n",
    "R90\n",
    "F11\n",
    "These instructions would be handled as follows:\n",
    "\n",
    "F10 would move the ship 10 units east (because the ship starts by facing east) to east 10, north 0.\n",
    "N3 would move the ship 3 units north to east 10, north 3.\n",
    "F7 would move the ship another 7 units east (because the ship is still facing east) to east 17, north 3.\n",
    "R90 would cause the ship to turn right by 90 degrees and face south; it remains at east 17, north 3.\n",
    "F11 would move the ship 11 units south to east 17, south 8.\n",
    "At the end of these instructions, the ship's Manhattan distance (sum of the absolute values of its east/west position and its north/south position) from its starting position is 17 + 8 = 25.\n",
    "\n",
    "Figure out where the navigation instructions lead. What is the Manhattan distance between that location and the ship's starting position?\n",
    "\n"
   ]
  },
  {
   "cell_type": "markdown",
   "metadata": {},
   "source": [
    "-------"
   ]
  },
  {
   "cell_type": "code",
   "execution_count": 1,
   "metadata": {},
   "outputs": [],
   "source": [
    "from aocd import data"
   ]
  },
  {
   "cell_type": "code",
   "execution_count": 3,
   "metadata": {},
   "outputs": [],
   "source": [
    "data = data.split('\\n')"
   ]
  },
  {
   "cell_type": "code",
   "execution_count": 6,
   "metadata": {},
   "outputs": [],
   "source": [
    "def execute_instruction(comm, pos, direction):\n",
    "    if comm[0] in ['N', 'S', 'E', 'W']:\n",
    "        return translate(comm, pos, direction)\n",
    "    elif comm[0] in ['L', 'R']:\n",
    "        return rotate(comm, pos, direction)\n",
    "    elif comm[0] == 'F':\n",
    "        return move(comm, pos, direction)\n",
    "    else:\n",
    "        print(\"error, command not recognised\")\n",
    "        return 0"
   ]
  },
  {
   "cell_type": "code",
   "execution_count": 15,
   "metadata": {},
   "outputs": [],
   "source": [
    "def move(comm, pos, direction):\n",
    "    if direction == 90:\n",
    "        return [pos[0], pos[1]+int(comm[1:])], direction\n",
    "    elif direction == 180:\n",
    "        return [pos[0]-int(comm[1:]), pos[1]], direction\n",
    "    if direction == 270:\n",
    "        return [pos[0], pos[1]-int(comm[1:])], direction\n",
    "    if direction == 0:\n",
    "        return [pos[0]+int(comm[1:]), pos[1]], direction\n",
    "    else:\n",
    "        print(\"Error, Forward command could not be executed\")\n",
    "        return 0"
   ]
  },
  {
   "cell_type": "code",
   "execution_count": 49,
   "metadata": {},
   "outputs": [],
   "source": [
    "def rotate(comm, pos, direction):\n",
    "    if comm[0] == 'L':\n",
    "        return position, (direction-int(comm[1:]))%360\n",
    "    elif comm[0] == 'R':\n",
    "        return position, (direction+int(comm[1:]))%360\n",
    "    else:\n",
    "        print(\"Rotate command not recognised\")\n",
    "        return 0"
   ]
  },
  {
   "cell_type": "code",
   "execution_count": 22,
   "metadata": {},
   "outputs": [],
   "source": [
    "def translate(comm, pos, direction):\n",
    "    if comm[0] == \"N\":\n",
    "        return [pos[0]+int(comm[1:]), pos[1]], direction\n",
    "    elif comm[0] == \"S\":\n",
    "        return [pos[0]-int(comm[1:]), pos[1]], direction\n",
    "    elif comm[0] == \"E\":\n",
    "        return [pos[0], pos[1]+int(comm[1:])], direction\n",
    "    elif comm[0] == \"W\":\n",
    "        return [pos[0], pos[1]-int(comm[1:])], direction\n",
    "    else:\n",
    "        print(\"Error translating\")\n",
    "        return 0"
   ]
  },
  {
   "cell_type": "code",
   "execution_count": 54,
   "metadata": {},
   "outputs": [],
   "source": [
    "position = [0,0]\n",
    "direction = 90\n",
    "\n",
    "for command in data:\n",
    "    position, direction = execute_instruction(command, position, direction)"
   ]
  },
  {
   "cell_type": "code",
   "execution_count": 55,
   "metadata": {},
   "outputs": [
    {
     "data": {
      "text/plain": [
       "[-934, -655]"
      ]
     },
     "execution_count": 55,
     "metadata": {},
     "output_type": "execute_result"
    }
   ],
   "source": [
    "position"
   ]
  },
  {
   "cell_type": "code",
   "execution_count": 56,
   "metadata": {},
   "outputs": [
    {
     "data": {
      "text/plain": [
       "1589"
      ]
     },
     "execution_count": 56,
     "metadata": {},
     "output_type": "execute_result"
    }
   ],
   "source": [
    "934+655"
   ]
  },
  {
   "cell_type": "code",
   "execution_count": 53,
   "metadata": {},
   "outputs": [
    {
     "data": {
      "text/plain": [
       "['R180', 'S4', 'L90', 'S2', 'R90', 'W3', 'F30', 'R90']"
      ]
     },
     "execution_count": 53,
     "metadata": {},
     "output_type": "execute_result"
    }
   ],
   "source": [
    "data[0:8]"
   ]
  },
  {
   "cell_type": "markdown",
   "metadata": {},
   "source": [
    "## Part 2"
   ]
  },
  {
   "cell_type": "markdown",
   "metadata": {},
   "source": [
    "----"
   ]
  },
  {
   "cell_type": "markdown",
   "metadata": {},
   "source": [
    "--- Part Two ---\n",
    "Before you can give the destination to the captain, you realize that the actual action meanings were printed on the back of the instructions the whole time.\n",
    "\n",
    "Almost all of the actions indicate how to move a waypoint which is relative to the ship's position:\n",
    "\n",
    "Action N means to move the waypoint north by the given value.\n",
    "Action S means to move the waypoint south by the given value.\n",
    "Action E means to move the waypoint east by the given value.\n",
    "Action W means to move the waypoint west by the given value.\n",
    "Action L means to rotate the waypoint around the ship left (counter-clockwise) the given number of degrees.\n",
    "Action R means to rotate the waypoint around the ship right (clockwise) the given number of degrees.\n",
    "Action F means to move forward to the waypoint a number of times equal to the given value.\n",
    "The waypoint starts 10 units east and 1 unit north relative to the ship. The waypoint is relative to the ship; that is, if the ship moves, the waypoint moves with it.\n",
    "\n",
    "For example, using the same instructions as above:\n",
    "\n",
    "F10 moves the ship to the waypoint 10 times (a total of 100 units east and 10 units north), leaving the ship at east 100, north 10. The waypoint stays 10 units east and 1 unit north of the ship.\n",
    "N3 moves the waypoint 3 units north to 10 units east and 4 units north of the ship. The ship remains at east 100, north 10.\n",
    "F7 moves the ship to the waypoint 7 times (a total of 70 units east and 28 units north), leaving the ship at east 170, north 38. The waypoint stays 10 units east and 4 units north of the ship.\n",
    "R90 rotates the waypoint around the ship clockwise 90 degrees, moving it to 4 units east and 10 units south of the ship. The ship remains at east 170, north 38.\n",
    "F11 moves the ship to the waypoint 11 times (a total of 44 units east and 110 units south), leaving the ship at east 214, south 72. The waypoint stays 4 units east and 10 units south of the ship.\n",
    "After these operations, the ship's Manhattan distance from its starting position is 214 + 72 = 286.\n",
    "\n",
    "Figure out where the navigation instructions actually lead. What is the Manhattan distance between that location and the ship's starting position?"
   ]
  },
  {
   "cell_type": "markdown",
   "metadata": {},
   "source": [
    "-----"
   ]
  },
  {
   "cell_type": "code",
   "execution_count": 57,
   "metadata": {},
   "outputs": [],
   "source": [
    "from aocd import data\n",
    "data = data.split('\\n')"
   ]
  },
  {
   "cell_type": "code",
   "execution_count": 59,
   "metadata": {},
   "outputs": [],
   "source": [
    "def execute_instruction_2(comm, ship_pos, way_pos):\n",
    "    if comm[0] in ['N', 'S', 'E', 'W']:\n",
    "        return move_way(comm, ship_pos, way_pos)\n",
    "    elif comm[0] in ['L', 'R']:\n",
    "        return rotate_way(comm, ship_pos, way_pos)\n",
    "    elif comm[0] == 'F':\n",
    "        return move_ship(comm, ship_pos, way_pos)\n",
    "    else:\n",
    "        print(\"error, command not recognised\")\n",
    "        return 0"
   ]
  },
  {
   "cell_type": "code",
   "execution_count": 72,
   "metadata": {},
   "outputs": [],
   "source": [
    "def move_way(comm, ship_pos, way_pos):\n",
    "    if comm[0] == \"N\":\n",
    "        return ship_pos, [way_pos[0] + int(comm[1:]) , way_pos[1]]\n",
    "    elif comm[0] == \"S\":\n",
    "        return ship_pos, [way_pos[0] - int(comm[1:]) , way_pos[1]]\n",
    "    elif comm[0] == \"E\":\n",
    "        return ship_pos, [way_pos[0] , way_pos[1] + int(comm[1:]) ]\n",
    "    elif comm[0] == \"W\":\n",
    "        return ship_pos, [way_pos[0] , way_pos[1] - int(comm[1:])]\n",
    "    else:\n",
    "        print(\"Error translating\")\n",
    "        return 0"
   ]
  },
  {
   "cell_type": "code",
   "execution_count": 74,
   "metadata": {},
   "outputs": [],
   "source": [
    "def move_ship(comm, ship_pos, way_pos):\n",
    "    return [ship_pos[0]+(way_pos[0]*int(comm[1:])), ship_pos[1]+(way_pos[1]*int(comm[1:]))], way_pos"
   ]
  },
  {
   "cell_type": "code",
   "execution_count": 90,
   "metadata": {},
   "outputs": [],
   "source": [
    "def rotate_way(comm, ship_pos, way_pos):\n",
    "    if comm in ['L0', 'R0']:\n",
    "        return ship_pos, way_pos\n",
    "    elif comm in ['L90', 'R270']:\n",
    "        return ship_pos, [way_pos[1], -way_pos[0]]\n",
    "    elif comm in ['L180', 'R180']:\n",
    "        return ship_pos, [-way_pos[0], -way_pos[1]]\n",
    "    elif comm in ['L270', 'R90']:\n",
    "        return ship_pos, [-way_pos[1], way_pos[0] ]\n",
    "    \n",
    "    else:\n",
    "        print(\"Rotate command not recognised\")\n",
    "        return 0"
   ]
  },
  {
   "cell_type": "code",
   "execution_count": 92,
   "metadata": {},
   "outputs": [],
   "source": [
    "ship_position = [0,0]\n",
    "waypoint_position = [1,10]\n",
    "\n",
    "for command in data:\n",
    "    ship_position, waypoint_position = execute_instruction_2(command, ship_position, waypoint_position)\n",
    "    #print(command, ship_position, waypoint_position)"
   ]
  },
  {
   "cell_type": "code",
   "execution_count": 76,
   "metadata": {},
   "outputs": [
    {
     "data": {
      "text/plain": [
       "['R180', 'S4', 'L90', 'S2', 'R90', 'W3', 'F30', 'R90', 'W3', 'L90']"
      ]
     },
     "execution_count": 76,
     "metadata": {},
     "output_type": "execute_result"
    }
   ],
   "source": [
    "data[0:10]"
   ]
  },
  {
   "cell_type": "code",
   "execution_count": 93,
   "metadata": {},
   "outputs": [
    {
     "data": {
      "text/plain": [
       "[6581, 17379]"
      ]
     },
     "execution_count": 93,
     "metadata": {},
     "output_type": "execute_result"
    }
   ],
   "source": [
    "ship_position"
   ]
  },
  {
   "cell_type": "code",
   "execution_count": 94,
   "metadata": {},
   "outputs": [
    {
     "data": {
      "text/plain": [
       "23960"
      ]
     },
     "execution_count": 94,
     "metadata": {},
     "output_type": "execute_result"
    }
   ],
   "source": [
    "6581+17379"
   ]
  },
  {
   "cell_type": "code",
   "execution_count": null,
   "metadata": {},
   "outputs": [],
   "source": []
  }
 ],
 "metadata": {
  "kernelspec": {
   "display_name": "Python 3",
   "language": "python",
   "name": "python3"
  },
  "language_info": {
   "codemirror_mode": {
    "name": "ipython",
    "version": 3
   },
   "file_extension": ".py",
   "mimetype": "text/x-python",
   "name": "python",
   "nbconvert_exporter": "python",
   "pygments_lexer": "ipython3",
   "version": "3.7.4"
  }
 },
 "nbformat": 4,
 "nbformat_minor": 4
}
