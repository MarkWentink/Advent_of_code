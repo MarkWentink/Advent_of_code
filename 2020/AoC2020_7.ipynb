{
 "cells": [
  {
   "cell_type": "markdown",
   "metadata": {},
   "source": [
    "# Advent of Code 2020 - Day 7"
   ]
  },
  {
   "cell_type": "markdown",
   "metadata": {},
   "source": [
    "### Challenge"
   ]
  },
  {
   "cell_type": "markdown",
   "metadata": {},
   "source": [
    "--- Day 7: Handy Haversacks ---\n",
    "You land at the regional airport in time for your next flight. In fact, it looks like you'll even have time to grab some food: all flights are currently delayed due to issues in luggage processing.\n",
    "\n",
    "Due to recent aviation regulations, many rules (your puzzle input) are being enforced about bags and their contents; bags must be color-coded and must contain specific quantities of other color-coded bags. Apparently, nobody responsible for these regulations considered how long they would take to enforce!\n",
    "\n",
    "For example, consider the following rules:\n",
    "\n",
    "light red bags contain 1 bright white bag, 2 muted yellow bags.\n",
    "dark orange bags contain 3 bright white bags, 4 muted yellow bags.\n",
    "bright white bags contain 1 shiny gold bag.\n",
    "muted yellow bags contain 2 shiny gold bags, 9 faded blue bags.\n",
    "shiny gold bags contain 1 dark olive bag, 2 vibrant plum bags.\n",
    "dark olive bags contain 3 faded blue bags, 4 dotted black bags.\n",
    "vibrant plum bags contain 5 faded blue bags, 6 dotted black bags.\n",
    "faded blue bags contain no other bags.\n",
    "dotted black bags contain no other bags.\n",
    "These rules specify the required contents for 9 bag types. In this example, every faded blue bag is empty, every vibrant plum bag contains 11 bags (5 faded blue and 6 dotted black), and so on.\n",
    "\n",
    "You have a shiny gold bag. If you wanted to carry it in at least one other bag, how many different bag colors would be valid for the outermost bag? (In other words: how many colors can, eventually, contain at least one shiny gold bag?)\n",
    "\n",
    "In the above rules, the following options would be available to you:\n",
    "\n",
    "A bright white bag, which can hold your shiny gold bag directly.\n",
    "A muted yellow bag, which can hold your shiny gold bag directly, plus some other bags.\n",
    "A dark orange bag, which can hold bright white and muted yellow bags, either of which could then hold your shiny gold bag.\n",
    "A light red bag, which can hold bright white and muted yellow bags, either of which could then hold your shiny gold bag.\n",
    "So, in this example, the number of bag colors that can eventually contain at least one shiny gold bag is 4.\n",
    "\n",
    "How many bag colors can eventually contain at least one shiny gold bag? (The list of rules is quite long; make sure you get all of it.)"
   ]
  },
  {
   "cell_type": "markdown",
   "metadata": {},
   "source": [
    "-----------"
   ]
  },
  {
   "cell_type": "code",
   "execution_count": 2,
   "metadata": {},
   "outputs": [],
   "source": [
    "from aocd import data"
   ]
  },
  {
   "cell_type": "code",
   "execution_count": 11,
   "metadata": {},
   "outputs": [],
   "source": [
    "import re"
   ]
  },
  {
   "cell_type": "code",
   "execution_count": 4,
   "metadata": {},
   "outputs": [],
   "source": [
    "data = list(data.split('\\n'))"
   ]
  },
  {
   "cell_type": "code",
   "execution_count": 5,
   "metadata": {},
   "outputs": [
    {
     "data": {
      "text/plain": [
       "['dotted blue bags contain 3 wavy bronze bags, 5 clear tomato bags.',\n",
       " 'mirrored brown bags contain 1 pale teal bag, 3 muted gray bags, 3 dark bronze bags.',\n",
       " 'shiny violet bags contain 3 vibrant crimson bags.',\n",
       " 'dotted crimson bags contain 1 posh red bag, 3 dim olive bags.',\n",
       " 'dotted red bags contain 2 drab white bags, 2 bright cyan bags, 4 bright coral bags, 5 drab maroon bags.',\n",
       " 'muted beige bags contain 4 clear tomato bags, 1 dotted black bag.',\n",
       " 'dark lime bags contain 4 light lavender bags, 3 vibrant beige bags, 5 light brown bags.',\n",
       " 'posh yellow bags contain 4 wavy chartreuse bags, 3 dull white bags, 2 shiny tomato bags, 1 mirrored gray bag.',\n",
       " 'vibrant turquoise bags contain 5 wavy crimson bags, 5 dim maroon bags, 1 dotted silver bag.',\n",
       " 'drab brown bags contain 1 vibrant cyan bag.',\n",
       " 'bright crimson bags contain 2 drab purple bags, 2 faded beige bags, 4 dim turquoise bags.',\n",
       " 'clear gold bags contain 3 dotted tomato bags, 5 pale magenta bags, 3 clear gray bags.',\n",
       " 'bright lavender bags contain 1 vibrant silver bag, 5 dotted black bags, 1 dark aqua bag.',\n",
       " 'faded red bags contain 5 pale white bags.',\n",
       " 'shiny brown bags contain 2 shiny beige bags, 1 vibrant indigo bag.',\n",
       " 'dotted teal bags contain 4 clear yellow bags, 1 dim crimson bag, 5 dull teal bags.',\n",
       " 'wavy orange bags contain 3 wavy green bags, 1 dark chartreuse bag, 5 bright silver bags, 3 dim plum bags.',\n",
       " 'dull indigo bags contain 2 faded black bags, 2 faded red bags, 4 dim bronze bags.',\n",
       " 'pale blue bags contain 2 pale fuchsia bags, 5 mirrored bronze bags, 2 faded fuchsia bags.',\n",
       " 'light lime bags contain 4 pale lime bags, 5 plaid green bags, 3 clear turquoise bags, 3 plaid yellow bags.']"
      ]
     },
     "execution_count": 5,
     "metadata": {},
     "output_type": "execute_result"
    }
   ],
   "source": [
    "data[0:20]"
   ]
  },
  {
   "cell_type": "code",
   "execution_count": 50,
   "metadata": {},
   "outputs": [],
   "source": []
  },
  {
   "cell_type": "code",
   "execution_count": 65,
   "metadata": {},
   "outputs": [],
   "source": [
    "rules = {}\n",
    "for entry in data:\n",
    "    try:\n",
    "        key = entry.split(' contain ')[0][:-5]\n",
    "        values = []\n",
    "        for bag in list(entry.split(' contain ')[1].split(', ')):\n",
    "            values.append(re.search(r'\\w+ \\w+ bag', bag).group()[:-4])\n",
    "\n",
    "    except:\n",
    "        values = []\n",
    "    \n",
    "    rules[key] = values\n"
   ]
  },
  {
   "cell_type": "code",
   "execution_count": 74,
   "metadata": {},
   "outputs": [],
   "source": [
    "keys = list(rules.keys())"
   ]
  },
  {
   "cell_type": "code",
   "execution_count": 79,
   "metadata": {},
   "outputs": [],
   "source": [
    "options = ['shiny gold']\n",
    "for key in keys:\n",
    "    if options[0] in rules[key]:\n",
    "        options.append(key)"
   ]
  },
  {
   "cell_type": "markdown",
   "metadata": {},
   "source": [
    "Slightly manual step of executing this code block until it now longer says 'iterating"
   ]
  },
  {
   "cell_type": "code",
   "execution_count": 83,
   "metadata": {},
   "outputs": [],
   "source": [
    "for option in options:\n",
    "    for key in keys:\n",
    "        if option in rules[key] and key not in options:\n",
    "            options.append(key)\n",
    "            print(\"iterating\")"
   ]
  },
  {
   "cell_type": "code",
   "execution_count": 85,
   "metadata": {},
   "outputs": [
    {
     "data": {
      "text/plain": [
       "338"
      ]
     },
     "execution_count": 85,
     "metadata": {},
     "output_type": "execute_result"
    }
   ],
   "source": [
    "len(options)"
   ]
  },
  {
   "cell_type": "markdown",
   "metadata": {},
   "source": [
    "## Part 2"
   ]
  },
  {
   "cell_type": "markdown",
   "metadata": {},
   "source": [
    "--------"
   ]
  },
  {
   "cell_type": "markdown",
   "metadata": {},
   "source": [
    "--- Part Two ---\n",
    "It's getting pretty expensive to fly these days - not because of ticket prices, but because of the ridiculous number of bags you need to buy!\n",
    "\n",
    "Consider again your shiny gold bag and the rules from the above example:\n",
    "\n",
    "faded blue bags contain 0 other bags.\n",
    "dotted black bags contain 0 other bags.\n",
    "vibrant plum bags contain 11 other bags: 5 faded blue bags and 6 dotted black bags.\n",
    "dark olive bags contain 7 other bags: 3 faded blue bags and 4 dotted black bags.\n",
    "So, a single shiny gold bag must contain 1 dark olive bag (and the 7 bags within it) plus 2 vibrant plum bags (and the 11 bags within each of those): 1 + 1*7 + 2 + 2*11 = 32 bags!\n",
    "\n",
    "Of course, the actual rules have a small chance of going several levels deeper than this example; be sure to count all of the bags, even if the nesting becomes topologically impractical!\n",
    "\n",
    "Here's another example:\n",
    "\n",
    "shiny gold bags contain 2 dark red bags.\n",
    "dark red bags contain 2 dark orange bags.\n",
    "dark orange bags contain 2 dark yellow bags.\n",
    "dark yellow bags contain 2 dark green bags.\n",
    "dark green bags contain 2 dark blue bags.\n",
    "dark blue bags contain 2 dark violet bags.\n",
    "dark violet bags contain no other bags.\n",
    "In this example, a single shiny gold bag must contain 126 other bags.\n",
    "\n",
    "How many individual bags are required inside your single shiny gold bag?"
   ]
  },
  {
   "cell_type": "markdown",
   "metadata": {},
   "source": [
    "-------"
   ]
  },
  {
   "cell_type": "markdown",
   "metadata": {},
   "source": [
    "Slightly different version of the rules, now including the number ofg bags as well"
   ]
  },
  {
   "cell_type": "code",
   "execution_count": 86,
   "metadata": {},
   "outputs": [],
   "source": [
    "rules = {}\n",
    "for entry in data:\n",
    "    try:\n",
    "        key = entry.split(' contain ')[0][:-5]\n",
    "        values = []\n",
    "        for bag in list(entry.split(' contain ')[1].split(', ')):\n",
    "            values.append([re.match(r'\\d+', bag).group(), re.search(r'\\w+ \\w+ bag', bag).group()[:-4]])\n",
    "\n",
    "    except:\n",
    "        values = []\n",
    "    \n",
    "    rules[key] = values\n"
   ]
  },
  {
   "cell_type": "code",
   "execution_count": 88,
   "metadata": {},
   "outputs": [
    {
     "data": {
      "text/plain": [
       "[['3', 'striped gold'],\n",
       " ['2', 'faded violet'],\n",
       " ['3', 'shiny tan'],\n",
       " ['3', 'dark turquoise']]"
      ]
     },
     "execution_count": 88,
     "metadata": {},
     "output_type": "execute_result"
    }
   ],
   "source": [
    "rules['shiny gold']"
   ]
  },
  {
   "cell_type": "code",
   "execution_count": 121,
   "metadata": {},
   "outputs": [
    {
     "data": {
      "text/plain": [
       "[['1', 'plaid violet'],\n",
       " ['3', 'striped gold'],\n",
       " ['2', 'clear violet'],\n",
       " ['2', 'pale red']]"
      ]
     },
     "execution_count": 121,
     "metadata": {},
     "output_type": "execute_result"
    }
   ],
   "source": [
    "rules['faded violet']"
   ]
  },
  {
   "cell_type": "code",
   "execution_count": 119,
   "metadata": {},
   "outputs": [],
   "source": [
    "luggage = ['shiny gold']\n",
    "\n",
    "for bag in luggage:\n",
    "    for rule in rules[bag]:\n",
    "        for i in range(int(rule[0])):\n",
    "            luggage.append(rule[1])"
   ]
  },
  {
   "cell_type": "code",
   "execution_count": 122,
   "metadata": {},
   "outputs": [
    {
     "data": {
      "text/plain": [
       "50101"
      ]
     },
     "execution_count": 122,
     "metadata": {},
     "output_type": "execute_result"
    }
   ],
   "source": [
    "len(luggage)"
   ]
  },
  {
   "cell_type": "code",
   "execution_count": 117,
   "metadata": {},
   "outputs": [
    {
     "data": {
      "text/plain": [
       "[['2', 'clear gray'],\n",
       " ['2', 'dull yellow'],\n",
       " ['1', 'dotted black'],\n",
       " ['4', 'posh red']]"
      ]
     },
     "execution_count": 117,
     "metadata": {},
     "output_type": "execute_result"
    }
   ],
   "source": []
  },
  {
   "cell_type": "code",
   "execution_count": null,
   "metadata": {},
   "outputs": [],
   "source": []
  }
 ],
 "metadata": {
  "kernelspec": {
   "display_name": "Python 3",
   "language": "python",
   "name": "python3"
  },
  "language_info": {
   "codemirror_mode": {
    "name": "ipython",
    "version": 3
   },
   "file_extension": ".py",
   "mimetype": "text/x-python",
   "name": "python",
   "nbconvert_exporter": "python",
   "pygments_lexer": "ipython3",
   "version": "3.7.4"
  }
 },
 "nbformat": 4,
 "nbformat_minor": 4
}
